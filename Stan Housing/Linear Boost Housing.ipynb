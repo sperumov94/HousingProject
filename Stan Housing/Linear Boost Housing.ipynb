{
 "cells": [
  {
   "cell_type": "markdown",
   "metadata": {},
   "source": [
    "## Initializing Variables and getting data"
   ]
  },
  {
   "cell_type": "code",
   "execution_count": 393,
   "metadata": {},
   "outputs": [],
   "source": [
    "%matplotlib inline\n",
    "import numpy as np\n",
    "import pandas as pd\n",
    "from sklearn import datasets\n",
    "from sklearn import linear_model\n",
    "import matplotlib.pyplot as plt\n",
    "import datetime\n",
    "import math\n",
    "import seaborn as sns\n",
    "from scipy.stats import norm\n",
    "from sklearn.preprocessing import StandardScaler\n",
    "from scipy import stats\n",
    "import warnings\n",
    "warnings.filterwarnings('ignore')\n",
    "import math\n",
    "\n",
    "from sklearn.model_selection import train_test_split\n",
    "from sklearn.ensemble import RandomForestClassifier\n",
    "from sklearn.ensemble import RandomForestRegressor\n",
    "from sklearn.metrics import accuracy_score\n",
    "from sklearn.metrics import confusion_matrix\n",
    "\n",
    "from sklearn.linear_model import Ridge, Lasso, ElasticNet, LinearRegression\n",
    "ridge = Ridge()\n",
    "lasso = Lasso()\n",
    "net   = ElasticNet()\n",
    "from math import *\n",
    "from sklearn.model_selection import GridSearchCV"
   ]
  },
  {
   "cell_type": "code",
   "execution_count": 2,
   "metadata": {},
   "outputs": [],
   "source": [
    "train = pd.read_csv('train.csv')"
   ]
  },
  {
   "cell_type": "code",
   "execution_count": 3,
   "metadata": {},
   "outputs": [],
   "source": [
    "test = pd.read_csv('test.csv')"
   ]
  },
  {
   "cell_type": "code",
   "execution_count": 4,
   "metadata": {},
   "outputs": [],
   "source": [
    "df = pd.concat([train,test])\n"
   ]
  },
  {
   "cell_type": "markdown",
   "metadata": {},
   "source": [
    "## Finding missing data"
   ]
  },
  {
   "cell_type": "code",
   "execution_count": 12,
   "metadata": {},
   "outputs": [],
   "source": [
    "total = df.isnull().sum().sort_values(ascending=False)\n",
    "percent = (df.isnull().sum()/df.isnull().count()).sort_values(ascending=False)\n",
    "missing_data = pd.concat([total, percent], axis=1, keys=['Total', 'Percent'])\n",
    "missing_data = missing_data[missing_data.Total>0]"
   ]
  },
  {
   "cell_type": "code",
   "execution_count": 13,
   "metadata": {},
   "outputs": [
    {
     "data": {
      "text/html": [
       "<div>\n",
       "<style scoped>\n",
       "    .dataframe tbody tr th:only-of-type {\n",
       "        vertical-align: middle;\n",
       "    }\n",
       "\n",
       "    .dataframe tbody tr th {\n",
       "        vertical-align: top;\n",
       "    }\n",
       "\n",
       "    .dataframe thead th {\n",
       "        text-align: right;\n",
       "    }\n",
       "</style>\n",
       "<table border=\"1\" class=\"dataframe\">\n",
       "  <thead>\n",
       "    <tr style=\"text-align: right;\">\n",
       "      <th></th>\n",
       "      <th>Total</th>\n",
       "      <th>Percent</th>\n",
       "    </tr>\n",
       "  </thead>\n",
       "  <tbody>\n",
       "    <tr>\n",
       "      <th>PoolQC</th>\n",
       "      <td>2909</td>\n",
       "      <td>0.996574</td>\n",
       "    </tr>\n",
       "    <tr>\n",
       "      <th>MiscFeature</th>\n",
       "      <td>2814</td>\n",
       "      <td>0.964029</td>\n",
       "    </tr>\n",
       "    <tr>\n",
       "      <th>Alley</th>\n",
       "      <td>2721</td>\n",
       "      <td>0.932169</td>\n",
       "    </tr>\n",
       "    <tr>\n",
       "      <th>Fence</th>\n",
       "      <td>2348</td>\n",
       "      <td>0.804385</td>\n",
       "    </tr>\n",
       "    <tr>\n",
       "      <th>SalePrice</th>\n",
       "      <td>1459</td>\n",
       "      <td>0.499829</td>\n",
       "    </tr>\n",
       "    <tr>\n",
       "      <th>FireplaceQu</th>\n",
       "      <td>1420</td>\n",
       "      <td>0.486468</td>\n",
       "    </tr>\n",
       "    <tr>\n",
       "      <th>LotFrontage</th>\n",
       "      <td>486</td>\n",
       "      <td>0.166495</td>\n",
       "    </tr>\n",
       "    <tr>\n",
       "      <th>GarageFinish</th>\n",
       "      <td>159</td>\n",
       "      <td>0.054471</td>\n",
       "    </tr>\n",
       "    <tr>\n",
       "      <th>GarageCond</th>\n",
       "      <td>159</td>\n",
       "      <td>0.054471</td>\n",
       "    </tr>\n",
       "    <tr>\n",
       "      <th>GarageQual</th>\n",
       "      <td>159</td>\n",
       "      <td>0.054471</td>\n",
       "    </tr>\n",
       "    <tr>\n",
       "      <th>GarageYrBlt</th>\n",
       "      <td>159</td>\n",
       "      <td>0.054471</td>\n",
       "    </tr>\n",
       "    <tr>\n",
       "      <th>GarageType</th>\n",
       "      <td>157</td>\n",
       "      <td>0.053786</td>\n",
       "    </tr>\n",
       "    <tr>\n",
       "      <th>BsmtCond</th>\n",
       "      <td>82</td>\n",
       "      <td>0.028092</td>\n",
       "    </tr>\n",
       "    <tr>\n",
       "      <th>BsmtExposure</th>\n",
       "      <td>82</td>\n",
       "      <td>0.028092</td>\n",
       "    </tr>\n",
       "    <tr>\n",
       "      <th>BsmtQual</th>\n",
       "      <td>81</td>\n",
       "      <td>0.027749</td>\n",
       "    </tr>\n",
       "    <tr>\n",
       "      <th>BsmtFinType2</th>\n",
       "      <td>80</td>\n",
       "      <td>0.027407</td>\n",
       "    </tr>\n",
       "    <tr>\n",
       "      <th>BsmtFinType1</th>\n",
       "      <td>79</td>\n",
       "      <td>0.027064</td>\n",
       "    </tr>\n",
       "    <tr>\n",
       "      <th>MasVnrType</th>\n",
       "      <td>24</td>\n",
       "      <td>0.008222</td>\n",
       "    </tr>\n",
       "    <tr>\n",
       "      <th>MasVnrArea</th>\n",
       "      <td>23</td>\n",
       "      <td>0.007879</td>\n",
       "    </tr>\n",
       "    <tr>\n",
       "      <th>MSZoning</th>\n",
       "      <td>4</td>\n",
       "      <td>0.001370</td>\n",
       "    </tr>\n",
       "    <tr>\n",
       "      <th>BsmtFullBath</th>\n",
       "      <td>2</td>\n",
       "      <td>0.000685</td>\n",
       "    </tr>\n",
       "    <tr>\n",
       "      <th>BsmtHalfBath</th>\n",
       "      <td>2</td>\n",
       "      <td>0.000685</td>\n",
       "    </tr>\n",
       "    <tr>\n",
       "      <th>Utilities</th>\n",
       "      <td>2</td>\n",
       "      <td>0.000685</td>\n",
       "    </tr>\n",
       "    <tr>\n",
       "      <th>Functional</th>\n",
       "      <td>2</td>\n",
       "      <td>0.000685</td>\n",
       "    </tr>\n",
       "    <tr>\n",
       "      <th>Electrical</th>\n",
       "      <td>1</td>\n",
       "      <td>0.000343</td>\n",
       "    </tr>\n",
       "    <tr>\n",
       "      <th>Exterior2nd</th>\n",
       "      <td>1</td>\n",
       "      <td>0.000343</td>\n",
       "    </tr>\n",
       "    <tr>\n",
       "      <th>KitchenQual</th>\n",
       "      <td>1</td>\n",
       "      <td>0.000343</td>\n",
       "    </tr>\n",
       "    <tr>\n",
       "      <th>Exterior1st</th>\n",
       "      <td>1</td>\n",
       "      <td>0.000343</td>\n",
       "    </tr>\n",
       "    <tr>\n",
       "      <th>GarageCars</th>\n",
       "      <td>1</td>\n",
       "      <td>0.000343</td>\n",
       "    </tr>\n",
       "    <tr>\n",
       "      <th>TotalBsmtSF</th>\n",
       "      <td>1</td>\n",
       "      <td>0.000343</td>\n",
       "    </tr>\n",
       "    <tr>\n",
       "      <th>GarageArea</th>\n",
       "      <td>1</td>\n",
       "      <td>0.000343</td>\n",
       "    </tr>\n",
       "    <tr>\n",
       "      <th>BsmtUnfSF</th>\n",
       "      <td>1</td>\n",
       "      <td>0.000343</td>\n",
       "    </tr>\n",
       "    <tr>\n",
       "      <th>BsmtFinSF2</th>\n",
       "      <td>1</td>\n",
       "      <td>0.000343</td>\n",
       "    </tr>\n",
       "    <tr>\n",
       "      <th>BsmtFinSF1</th>\n",
       "      <td>1</td>\n",
       "      <td>0.000343</td>\n",
       "    </tr>\n",
       "    <tr>\n",
       "      <th>SaleType</th>\n",
       "      <td>1</td>\n",
       "      <td>0.000343</td>\n",
       "    </tr>\n",
       "  </tbody>\n",
       "</table>\n",
       "</div>"
      ],
      "text/plain": [
       "              Total   Percent\n",
       "PoolQC         2909  0.996574\n",
       "MiscFeature    2814  0.964029\n",
       "Alley          2721  0.932169\n",
       "Fence          2348  0.804385\n",
       "SalePrice      1459  0.499829\n",
       "FireplaceQu    1420  0.486468\n",
       "LotFrontage     486  0.166495\n",
       "GarageFinish    159  0.054471\n",
       "GarageCond      159  0.054471\n",
       "GarageQual      159  0.054471\n",
       "GarageYrBlt     159  0.054471\n",
       "GarageType      157  0.053786\n",
       "BsmtCond         82  0.028092\n",
       "BsmtExposure     82  0.028092\n",
       "BsmtQual         81  0.027749\n",
       "BsmtFinType2     80  0.027407\n",
       "BsmtFinType1     79  0.027064\n",
       "MasVnrType       24  0.008222\n",
       "MasVnrArea       23  0.007879\n",
       "MSZoning          4  0.001370\n",
       "BsmtFullBath      2  0.000685\n",
       "BsmtHalfBath      2  0.000685\n",
       "Utilities         2  0.000685\n",
       "Functional        2  0.000685\n",
       "Electrical        1  0.000343\n",
       "Exterior2nd       1  0.000343\n",
       "KitchenQual       1  0.000343\n",
       "Exterior1st       1  0.000343\n",
       "GarageCars        1  0.000343\n",
       "TotalBsmtSF       1  0.000343\n",
       "GarageArea        1  0.000343\n",
       "BsmtUnfSF         1  0.000343\n",
       "BsmtFinSF2        1  0.000343\n",
       "BsmtFinSF1        1  0.000343\n",
       "SaleType          1  0.000343"
      ]
     },
     "execution_count": 13,
     "metadata": {},
     "output_type": "execute_result"
    }
   ],
   "source": [
    "missing_data\n"
   ]
  },
  {
   "cell_type": "markdown",
   "metadata": {},
   "source": [
    "## Imputing missing data"
   ]
  },
  {
   "cell_type": "code",
   "execution_count": 14,
   "metadata": {},
   "outputs": [],
   "source": [
    "df.PoolQC.replace(np.NaN, 0, inplace=True)\n",
    "df.PoolQC.replace('Fa',1, inplace=True)\n",
    "df.PoolQC.replace('TA', 2, inplace=True)\n",
    "df.PoolQC.replace('Gd', 3, inplace=True)\n",
    "df.PoolQC.replace('Ex', 4, inplace=True)"
   ]
  },
  {
   "cell_type": "code",
   "execution_count": 15,
   "metadata": {},
   "outputs": [],
   "source": [
    "df.Alley.replace(np.NaN, 'None', inplace=True)"
   ]
  },
  {
   "cell_type": "code",
   "execution_count": 16,
   "metadata": {},
   "outputs": [],
   "source": [
    "df.Fence.replace(np.NaN, 0, inplace=True)\n",
    "df.Fence.replace('MnWw', 1, inplace=True)\n",
    "df.Fence.replace('GdWo', 2, inplace=True)\n",
    "df.Fence.replace('MnPrv', 3, inplace=True)\n",
    "df.Fence.replace('GdPrv', 4, inplace=True)"
   ]
  },
  {
   "cell_type": "code",
   "execution_count": 17,
   "metadata": {},
   "outputs": [],
   "source": [
    "df.FireplaceQu.replace(np.NaN, 0, inplace=True)\n",
    "df.FireplaceQu.replace('Po', 1, inplace=True)\n",
    "df.FireplaceQu.replace('Fa', 2, inplace=True)\n",
    "df.FireplaceQu.replace('TA', 3, inplace=True)\n",
    "df.FireplaceQu.replace('Gd', 4, inplace=True)\n",
    "df.FireplaceQu.replace('Ex', 5, inplace=True)"
   ]
  },
  {
   "cell_type": "code",
   "execution_count": 18,
   "metadata": {},
   "outputs": [],
   "source": [
    "MeanLF = df.groupby('Neighborhood').agg({'LotFrontage':'mean'})\n",
    "MeanLFdict = MeanLF.LotFrontage.to_dict()\n",
    "df.LotFrontage.fillna(df.Neighborhood, inplace=True)\n",
    "df.LotFrontage = df.LotFrontage.replace(MeanLFdict)"
   ]
  },
  {
   "cell_type": "code",
   "execution_count": 19,
   "metadata": {},
   "outputs": [
    {
     "data": {
      "text/plain": [
       "TA    2604\n",
       "Fa     124\n",
       "Gd      24\n",
       "Po       5\n",
       "Ex       3\n",
       "Name: GarageQual, dtype: int64"
      ]
     },
     "execution_count": 19,
     "metadata": {},
     "output_type": "execute_result"
    }
   ],
   "source": [
    "df.GarageQual.value_counts()"
   ]
  },
  {
   "cell_type": "code",
   "execution_count": 20,
   "metadata": {},
   "outputs": [],
   "source": [
    "df.GarageQual.replace(np.NaN, 0, inplace=True)\n",
    "df.GarageQual.replace('Po', 1, inplace=True)\n",
    "df.GarageQual.replace('Fa', 2, inplace=True)\n",
    "df.GarageQual.replace('TA', 3, inplace=True)\n",
    "df.GarageQual.replace('Gd', 4, inplace=True)\n",
    "df.GarageQual.replace('Ex', 5, inplace=True)"
   ]
  },
  {
   "cell_type": "code",
   "execution_count": 21,
   "metadata": {},
   "outputs": [],
   "source": [
    "df.GarageYrBlt.fillna(df.YearBuilt, inplace=True)"
   ]
  },
  {
   "cell_type": "code",
   "execution_count": 22,
   "metadata": {},
   "outputs": [],
   "source": [
    "df.GarageCond.replace(np.NaN, 0, inplace=True)\n",
    "df.GarageCond.replace('Po', 1, inplace=True)\n",
    "df.GarageCond.replace('Fa', 2, inplace=True)\n",
    "df.GarageCond.replace('TA', 3, inplace=True)\n",
    "df.GarageCond.replace('Gd', 4, inplace=True)\n",
    "df.GarageCond.replace('Ex', 5, inplace=True)"
   ]
  },
  {
   "cell_type": "code",
   "execution_count": 23,
   "metadata": {},
   "outputs": [
    {
     "data": {
      "text/plain": [
       "3    2654\n",
       "0     159\n",
       "2      74\n",
       "4      15\n",
       "1      14\n",
       "5       3\n",
       "Name: GarageCond, dtype: int64"
      ]
     },
     "execution_count": 23,
     "metadata": {},
     "output_type": "execute_result"
    }
   ],
   "source": [
    "df.GarageCond.value_counts()"
   ]
  },
  {
   "cell_type": "code",
   "execution_count": 24,
   "metadata": {},
   "outputs": [],
   "source": [
    "df.GarageFinish.replace({np.NaN : 0, 'Unf' : 1, 'RFn' : 2, 'Fin' : 3}, inplace=True)"
   ]
  },
  {
   "cell_type": "code",
   "execution_count": 25,
   "metadata": {},
   "outputs": [],
   "source": [
    "df.GarageType.fillna('None', inplace=True)"
   ]
  },
  {
   "cell_type": "code",
   "execution_count": 26,
   "metadata": {},
   "outputs": [],
   "source": [
    "df.BsmtExposure.replace({np.NaN : 0, 'No' : 1, 'Mn' : 2, 'Av' : 3, 'Gd' : 4}, inplace=True)"
   ]
  },
  {
   "cell_type": "code",
   "execution_count": 27,
   "metadata": {},
   "outputs": [],
   "source": [
    "df.BsmtCond.replace({np.NaN : 0, 'Po' : 1, 'Fa' : 2, 'TA' : 3, 'Gd' : 4, 'Ex' : 5}, inplace=True)"
   ]
  },
  {
   "cell_type": "code",
   "execution_count": 28,
   "metadata": {},
   "outputs": [],
   "source": [
    "df.BsmtQual.replace({np.NaN : 0, 'Po' : 1, 'Fa' : 2, 'TA' : 3, 'Gd' : 4, 'Ex' : 5}, inplace=True)"
   ]
  },
  {
   "cell_type": "code",
   "execution_count": 29,
   "metadata": {},
   "outputs": [],
   "source": [
    "df.BsmtFinType1.replace({np.NaN : 0, 'Unf' : 1, 'LwQ' : 2, 'Rec' : 3, 'BLQ' : 4, 'ALQ' : 5, 'GLQ' : 6}, inplace=True)"
   ]
  },
  {
   "cell_type": "code",
   "execution_count": 30,
   "metadata": {},
   "outputs": [],
   "source": [
    "df.BsmtFinType2.replace({np.NaN : 0, 'Unf' : 1, 'LwQ' : 2, 'Rec' : 3, 'BLQ' : 4, 'ALQ' : 5, 'GLQ' : 6}, inplace=True)"
   ]
  },
  {
   "cell_type": "code",
   "execution_count": 31,
   "metadata": {},
   "outputs": [],
   "source": [
    "df.loc[1150, 'MasVnrType'] = 'BrkFace'"
   ]
  },
  {
   "cell_type": "code",
   "execution_count": 32,
   "metadata": {},
   "outputs": [],
   "source": [
    "df.MasVnrType.replace({'None' : 0, 'CBlock' : 1, 'BrkCmn' : 2, 'BrkFace' : 3, 'Stone' : 4}, inplace=True)"
   ]
  },
  {
   "cell_type": "code",
   "execution_count": 33,
   "metadata": {},
   "outputs": [],
   "source": [
    "df.MasVnrType.replace({np.NaN : 0}, inplace=True)"
   ]
  },
  {
   "cell_type": "code",
   "execution_count": 34,
   "metadata": {},
   "outputs": [
    {
     "name": "stdout",
     "output_type": "stream",
     "text": [
      "102.20131215469613\n"
     ]
    }
   ],
   "source": [
    "print(df.MasVnrArea.mean())"
   ]
  },
  {
   "cell_type": "code",
   "execution_count": 35,
   "metadata": {},
   "outputs": [],
   "source": [
    "df.MasVnrArea.fillna(102, inplace=True)"
   ]
  },
  {
   "cell_type": "code",
   "execution_count": 36,
   "metadata": {},
   "outputs": [
    {
     "data": {
      "text/plain": [
       "1Fam      2425\n",
       "TwnhsE     227\n",
       "Duplex     109\n",
       "Twnhs       96\n",
       "2fmCon      62\n",
       "Name: BldgType, dtype: int64"
      ]
     },
     "execution_count": 36,
     "metadata": {},
     "output_type": "execute_result"
    }
   ],
   "source": [
    "df.BldgType.value_counts()"
   ]
  },
  {
   "cell_type": "code",
   "execution_count": 37,
   "metadata": {},
   "outputs": [
    {
     "data": {
      "text/plain": [
       "RL         2009\n",
       "RM          301\n",
       "FV           77\n",
       "C (all)      22\n",
       "RH           12\n",
       "Name: MSZoning, dtype: int64"
      ]
     },
     "execution_count": 37,
     "metadata": {},
     "output_type": "execute_result"
    }
   ],
   "source": [
    "df[df.BldgType=='1Fam'].MSZoning.value_counts()"
   ]
  },
  {
   "cell_type": "code",
   "execution_count": 38,
   "metadata": {},
   "outputs": [
    {
     "data": {
      "text/plain": [
       "RM         68\n",
       "C (all)    22\n",
       "Name: MSZoning, dtype: int64"
      ]
     },
     "execution_count": 38,
     "metadata": {},
     "output_type": "execute_result"
    }
   ],
   "source": [
    "df[df.Neighborhood=='IDOTRR'].MSZoning.value_counts()"
   ]
  },
  {
   "cell_type": "code",
   "execution_count": 39,
   "metadata": {},
   "outputs": [
    {
     "data": {
      "text/plain": [
       "RL    104\n",
       "RM      9\n",
       "Name: MSZoning, dtype: int64"
      ]
     },
     "execution_count": 39,
     "metadata": {},
     "output_type": "execute_result"
    }
   ],
   "source": [
    "df[df.Neighborhood=='Mitchel'].MSZoning.value_counts()"
   ]
  },
  {
   "cell_type": "code",
   "execution_count": 40,
   "metadata": {},
   "outputs": [],
   "source": [
    "df.MSZoning.fillna(df.Neighborhood, inplace=True)"
   ]
  },
  {
   "cell_type": "code",
   "execution_count": 41,
   "metadata": {},
   "outputs": [
    {
     "data": {
      "text/plain": [
       "RL         2265\n",
       "RM          460\n",
       "FV          139\n",
       "RH           26\n",
       "C (all)      25\n",
       "IDOTRR        3\n",
       "Mitchel       1\n",
       "Name: MSZoning, dtype: int64"
      ]
     },
     "execution_count": 41,
     "metadata": {},
     "output_type": "execute_result"
    }
   ],
   "source": [
    "df.MSZoning.value_counts()"
   ]
  },
  {
   "cell_type": "code",
   "execution_count": 42,
   "metadata": {},
   "outputs": [],
   "source": [
    "df.MSZoning.replace({'IDOTRR' : 'RM', 'Mitchel' : 'RL'}, inplace=True)"
   ]
  },
  {
   "cell_type": "markdown",
   "metadata": {},
   "source": [
    "## Checking what is still missing"
   ]
  },
  {
   "cell_type": "code",
   "execution_count": 43,
   "metadata": {},
   "outputs": [],
   "source": [
    "total = df.isnull().sum().sort_values(ascending=False)\n",
    "percent = (df.isnull().sum()/df.isnull().count()).sort_values(ascending=False)\n",
    "missing_data = pd.concat([total, percent], axis=1, keys=['Total', 'Percent'])\n",
    "missing_data = missing_data[missing_data.Total>0]\n",
    "missing_data"
   ]
  },
  {
   "cell_type": "code",
   "execution_count": 44,
   "metadata": {},
   "outputs": [
    {
     "data": {
      "text/html": [
       "<div>\n",
       "<style scoped>\n",
       "    .dataframe tbody tr th:only-of-type {\n",
       "        vertical-align: middle;\n",
       "    }\n",
       "\n",
       "    .dataframe tbody tr th {\n",
       "        vertical-align: top;\n",
       "    }\n",
       "\n",
       "    .dataframe thead th {\n",
       "        text-align: right;\n",
       "    }\n",
       "</style>\n",
       "<table border=\"1\" class=\"dataframe\">\n",
       "  <thead>\n",
       "    <tr style=\"text-align: right;\">\n",
       "      <th></th>\n",
       "      <th>Total</th>\n",
       "      <th>Percent</th>\n",
       "    </tr>\n",
       "  </thead>\n",
       "  <tbody>\n",
       "    <tr>\n",
       "      <th>MiscFeature</th>\n",
       "      <td>2814</td>\n",
       "      <td>0.964029</td>\n",
       "    </tr>\n",
       "    <tr>\n",
       "      <th>SalePrice</th>\n",
       "      <td>1459</td>\n",
       "      <td>0.499829</td>\n",
       "    </tr>\n",
       "    <tr>\n",
       "      <th>BsmtHalfBath</th>\n",
       "      <td>2</td>\n",
       "      <td>0.000685</td>\n",
       "    </tr>\n",
       "    <tr>\n",
       "      <th>BsmtFullBath</th>\n",
       "      <td>2</td>\n",
       "      <td>0.000685</td>\n",
       "    </tr>\n",
       "    <tr>\n",
       "      <th>Utilities</th>\n",
       "      <td>2</td>\n",
       "      <td>0.000685</td>\n",
       "    </tr>\n",
       "    <tr>\n",
       "      <th>Functional</th>\n",
       "      <td>2</td>\n",
       "      <td>0.000685</td>\n",
       "    </tr>\n",
       "    <tr>\n",
       "      <th>BsmtUnfSF</th>\n",
       "      <td>1</td>\n",
       "      <td>0.000343</td>\n",
       "    </tr>\n",
       "    <tr>\n",
       "      <th>BsmtFinSF2</th>\n",
       "      <td>1</td>\n",
       "      <td>0.000343</td>\n",
       "    </tr>\n",
       "    <tr>\n",
       "      <th>Exterior2nd</th>\n",
       "      <td>1</td>\n",
       "      <td>0.000343</td>\n",
       "    </tr>\n",
       "    <tr>\n",
       "      <th>KitchenQual</th>\n",
       "      <td>1</td>\n",
       "      <td>0.000343</td>\n",
       "    </tr>\n",
       "    <tr>\n",
       "      <th>BsmtFinSF1</th>\n",
       "      <td>1</td>\n",
       "      <td>0.000343</td>\n",
       "    </tr>\n",
       "    <tr>\n",
       "      <th>GarageArea</th>\n",
       "      <td>1</td>\n",
       "      <td>0.000343</td>\n",
       "    </tr>\n",
       "    <tr>\n",
       "      <th>GarageCars</th>\n",
       "      <td>1</td>\n",
       "      <td>0.000343</td>\n",
       "    </tr>\n",
       "    <tr>\n",
       "      <th>TotalBsmtSF</th>\n",
       "      <td>1</td>\n",
       "      <td>0.000343</td>\n",
       "    </tr>\n",
       "    <tr>\n",
       "      <th>Exterior1st</th>\n",
       "      <td>1</td>\n",
       "      <td>0.000343</td>\n",
       "    </tr>\n",
       "    <tr>\n",
       "      <th>Electrical</th>\n",
       "      <td>1</td>\n",
       "      <td>0.000343</td>\n",
       "    </tr>\n",
       "    <tr>\n",
       "      <th>SaleType</th>\n",
       "      <td>1</td>\n",
       "      <td>0.000343</td>\n",
       "    </tr>\n",
       "  </tbody>\n",
       "</table>\n",
       "</div>"
      ],
      "text/plain": [
       "              Total   Percent\n",
       "MiscFeature    2814  0.964029\n",
       "SalePrice      1459  0.499829\n",
       "BsmtHalfBath      2  0.000685\n",
       "BsmtFullBath      2  0.000685\n",
       "Utilities         2  0.000685\n",
       "Functional        2  0.000685\n",
       "BsmtUnfSF         1  0.000343\n",
       "BsmtFinSF2        1  0.000343\n",
       "Exterior2nd       1  0.000343\n",
       "KitchenQual       1  0.000343\n",
       "BsmtFinSF1        1  0.000343\n",
       "GarageArea        1  0.000343\n",
       "GarageCars        1  0.000343\n",
       "TotalBsmtSF       1  0.000343\n",
       "Exterior1st       1  0.000343\n",
       "Electrical        1  0.000343\n",
       "SaleType          1  0.000343"
      ]
     },
     "execution_count": 44,
     "metadata": {},
     "output_type": "execute_result"
    }
   ],
   "source": [
    "missing_data"
   ]
  },
  {
   "cell_type": "markdown",
   "metadata": {},
   "source": [
    "## Continuing Imputation"
   ]
  },
  {
   "cell_type": "code",
   "execution_count": 45,
   "metadata": {},
   "outputs": [
    {
     "data": {
      "text/plain": [
       "660   NaN\n",
       "728   NaN\n",
       "Name: BsmtFullBath, dtype: float64"
      ]
     },
     "execution_count": 45,
     "metadata": {},
     "output_type": "execute_result"
    }
   ],
   "source": [
    "df[df.BsmtHalfBath.isnull()]['BsmtFullBath']"
   ]
  },
  {
   "cell_type": "code",
   "execution_count": 46,
   "metadata": {},
   "outputs": [
    {
     "data": {
      "text/plain": [
       "0.0    2742\n",
       "1.0     171\n",
       "2.0       4\n",
       "Name: BsmtHalfBath, dtype: int64"
      ]
     },
     "execution_count": 46,
     "metadata": {},
     "output_type": "execute_result"
    }
   ],
   "source": [
    "df.BsmtHalfBath.value_counts()"
   ]
  },
  {
   "cell_type": "code",
   "execution_count": 47,
   "metadata": {},
   "outputs": [],
   "source": [
    "df.BsmtHalfBath.fillna(0, inplace=True)\n",
    "df.BsmtFullBath.fillna(0, inplace=True)\n"
   ]
  },
  {
   "cell_type": "code",
   "execution_count": 48,
   "metadata": {},
   "outputs": [
    {
     "data": {
      "text/plain": [
       "AllPub    2916\n",
       "NoSeWa       1\n",
       "Name: Utilities, dtype: int64"
      ]
     },
     "execution_count": 48,
     "metadata": {},
     "output_type": "execute_result"
    }
   ],
   "source": [
    "df.Utilities.value_counts()"
   ]
  },
  {
   "cell_type": "code",
   "execution_count": 49,
   "metadata": {},
   "outputs": [],
   "source": [
    "df.drop('Utilities', axis=1, inplace=True)\n"
   ]
  },
  {
   "cell_type": "code",
   "execution_count": 50,
   "metadata": {},
   "outputs": [
    {
     "data": {
      "text/plain": [
       "1304    Maj1\n",
       "1040    Maj1\n",
       "542     Maj1\n",
       "645     Maj1\n",
       "790     Maj1\n",
       "529     Maj1\n",
       "276     Maj1\n",
       "375     Maj1\n",
       "1068    Maj1\n",
       "1173    Maj1\n",
       "1405    Maj1\n",
       "145     Maj1\n",
       "636     Maj1\n",
       "1088    Maj1\n",
       "1139    Maj1\n",
       "1229    Maj1\n",
       "1293    Maj1\n",
       "190     Maj1\n",
       "193     Maj1\n",
       "639     Maj2\n",
       "606     Maj2\n",
       "398     Maj2\n",
       "662     Maj2\n",
       "445     Maj2\n",
       "406     Maj2\n",
       "710     Maj2\n",
       "1013    Maj2\n",
       "1118    Maj2\n",
       "134     Min1\n",
       "804     Min1\n",
       "        ... \n",
       "1033     Typ\n",
       "1034     Typ\n",
       "1035     Typ\n",
       "1027     Typ\n",
       "1016     Typ\n",
       "1015     Typ\n",
       "1014     Typ\n",
       "993      Typ\n",
       "994      Typ\n",
       "995      Typ\n",
       "996      Typ\n",
       "997      Typ\n",
       "998      Typ\n",
       "999      Typ\n",
       "1001     Typ\n",
       "1002     Typ\n",
       "1003     Typ\n",
       "1004     Typ\n",
       "1005     Typ\n",
       "1006     Typ\n",
       "1007     Typ\n",
       "1008     Typ\n",
       "1009     Typ\n",
       "1010     Typ\n",
       "1011     Typ\n",
       "1012     Typ\n",
       "47       Typ\n",
       "1458     Typ\n",
       "756      NaN\n",
       "1013     NaN\n",
       "Name: Functional, Length: 2919, dtype: object"
      ]
     },
     "execution_count": 50,
     "metadata": {},
     "output_type": "execute_result"
    }
   ],
   "source": [
    "df.Functional.sort_values(ascending=True)"
   ]
  },
  {
   "cell_type": "code",
   "execution_count": 51,
   "metadata": {},
   "outputs": [
    {
     "data": {
      "text/plain": [
       "Neighborhood\n",
       "Blmngtn    327.642857\n",
       "Blueste    293.300000\n",
       "BrDale     259.066667\n",
       "BrkSide    200.607477\n",
       "ClearCr    584.613636\n",
       "CollgCr    489.565543\n",
       "Crawfor    471.126214\n",
       "Edwards    409.958763\n",
       "Gilbert    244.036364\n",
       "IDOTRR     155.376344\n",
       "MeadowV    351.108108\n",
       "Mitchel    601.017544\n",
       "NAmes      484.295711\n",
       "NPkVill    390.869565\n",
       "NWAmes     568.488550\n",
       "NoRidge    736.830986\n",
       "NridgHt    743.343373\n",
       "OldTown    140.133891\n",
       "SWISU      295.583333\n",
       "Sawyer     470.397351\n",
       "SawyerW    419.600000\n",
       "Somerst    390.670330\n",
       "StoneBr    769.588235\n",
       "Timber     698.263889\n",
       "Veenker    854.583333\n",
       "Name: BsmtFinSF1, dtype: float64"
      ]
     },
     "execution_count": 51,
     "metadata": {},
     "output_type": "execute_result"
    }
   ],
   "source": [
    "df.groupby('Neighborhood').BsmtFinSF1.mean()"
   ]
  },
  {
   "cell_type": "code",
   "execution_count": 52,
   "metadata": {},
   "outputs": [
    {
     "data": {
      "text/plain": [
       "660    BrkSide\n",
       "Name: Neighborhood, dtype: object"
      ]
     },
     "execution_count": 52,
     "metadata": {},
     "output_type": "execute_result"
    }
   ],
   "source": [
    "df[df.BsmtFinSF1.isnull()].Neighborhood"
   ]
  },
  {
   "cell_type": "code",
   "execution_count": 53,
   "metadata": {},
   "outputs": [],
   "source": [
    "df.BsmtFinSF1.fillna(200, inplace=True)"
   ]
  },
  {
   "cell_type": "code",
   "execution_count": 54,
   "metadata": {},
   "outputs": [],
   "source": [
    "df.Functional.fillna('Typ', inplace=True)"
   ]
  },
  {
   "cell_type": "code",
   "execution_count": 55,
   "metadata": {},
   "outputs": [],
   "source": [
    "df.Functional.replace({'Sal' : 0, 'Sev' : 1, 'Maj2': 2, 'Maj1': 3, 'Mod' : 4, 'Min2' : 5, 'Min1' : 6, 'Typ' : 7}, inplace=True)"
   ]
  },
  {
   "cell_type": "code",
   "execution_count": 56,
   "metadata": {},
   "outputs": [
    {
     "data": {
      "text/plain": [
       "691    Edwards\n",
       "Name: Neighborhood, dtype: object"
      ]
     },
     "execution_count": 56,
     "metadata": {},
     "output_type": "execute_result"
    }
   ],
   "source": [
    "df[df.Exterior2nd.isnull()].Neighborhood"
   ]
  },
  {
   "cell_type": "code",
   "execution_count": 57,
   "metadata": {},
   "outputs": [
    {
     "data": {
      "text/plain": [
       "691    0.0\n",
       "Name: MasVnrType, dtype: float64"
      ]
     },
     "execution_count": 57,
     "metadata": {},
     "output_type": "execute_result"
    }
   ],
   "source": [
    "df[df.Exterior2nd.isnull()].MasVnrType"
   ]
  },
  {
   "cell_type": "code",
   "execution_count": 58,
   "metadata": {},
   "outputs": [
    {
     "data": {
      "text/plain": [
       "691    1Fam\n",
       "Name: BldgType, dtype: object"
      ]
     },
     "execution_count": 58,
     "metadata": {},
     "output_type": "execute_result"
    }
   ],
   "source": [
    "df[df.Exterior2nd.isnull()].BldgType"
   ]
  },
  {
   "cell_type": "code",
   "execution_count": 59,
   "metadata": {},
   "outputs": [
    {
     "data": {
      "text/plain": [
       "691    TA\n",
       "Name: ExterQual, dtype: object"
      ]
     },
     "execution_count": 59,
     "metadata": {},
     "output_type": "execute_result"
    }
   ],
   "source": [
    "df[df.Exterior2nd.isnull()].ExterQual"
   ]
  },
  {
   "cell_type": "code",
   "execution_count": 60,
   "metadata": {},
   "outputs": [
    {
     "data": {
      "text/plain": [
       "691    TA\n",
       "Name: ExterCond, dtype: object"
      ]
     },
     "execution_count": 60,
     "metadata": {},
     "output_type": "execute_result"
    }
   ],
   "source": [
    "df[df.Exterior2nd.isnull()].ExterCond"
   ]
  },
  {
   "cell_type": "code",
   "execution_count": 61,
   "metadata": {},
   "outputs": [
    {
     "data": {
      "text/plain": [
       "VinylSd    915\n",
       "HdBoard    362\n",
       "MetalSd    356\n",
       "Wd Sdng    327\n",
       "Plywood    231\n",
       "CmentBd    117\n",
       "Wd Shng     69\n",
       "BrkFace     42\n",
       "Stucco      40\n",
       "AsbShng     29\n",
       "Brk Cmn     21\n",
       "ImStucc     15\n",
       "Stone        6\n",
       "AsphShn      3\n",
       "CBlock       3\n",
       "Other        1\n",
       "Name: Exterior2nd, dtype: int64"
      ]
     },
     "execution_count": 61,
     "metadata": {},
     "output_type": "execute_result"
    }
   ],
   "source": [
    "df[df.ExterCond=='TA'].Exterior2nd.value_counts()"
   ]
  },
  {
   "cell_type": "code",
   "execution_count": 62,
   "metadata": {},
   "outputs": [
    {
     "data": {
      "text/plain": [
       "0.0    502\n",
       "3.0    352\n",
       "4.0    157\n",
       "2.0      3\n",
       "Name: MasVnrType, dtype: int64"
      ]
     },
     "execution_count": 62,
     "metadata": {},
     "output_type": "execute_result"
    }
   ],
   "source": [
    "df[df.Exterior2nd=='VinylSd'].MasVnrType.value_counts()"
   ]
  },
  {
   "cell_type": "code",
   "execution_count": 63,
   "metadata": {},
   "outputs": [],
   "source": [
    "df.Exterior2nd.fillna('VinylSd', inplace=True)"
   ]
  },
  {
   "cell_type": "markdown",
   "metadata": {},
   "source": [
    "## Checking what is still to be done"
   ]
  },
  {
   "cell_type": "code",
   "execution_count": 64,
   "metadata": {},
   "outputs": [
    {
     "data": {
      "text/html": [
       "<div>\n",
       "<style scoped>\n",
       "    .dataframe tbody tr th:only-of-type {\n",
       "        vertical-align: middle;\n",
       "    }\n",
       "\n",
       "    .dataframe tbody tr th {\n",
       "        vertical-align: top;\n",
       "    }\n",
       "\n",
       "    .dataframe thead th {\n",
       "        text-align: right;\n",
       "    }\n",
       "</style>\n",
       "<table border=\"1\" class=\"dataframe\">\n",
       "  <thead>\n",
       "    <tr style=\"text-align: right;\">\n",
       "      <th></th>\n",
       "      <th>Total</th>\n",
       "      <th>Percent</th>\n",
       "    </tr>\n",
       "  </thead>\n",
       "  <tbody>\n",
       "    <tr>\n",
       "      <th>MiscFeature</th>\n",
       "      <td>2814</td>\n",
       "      <td>0.964029</td>\n",
       "    </tr>\n",
       "    <tr>\n",
       "      <th>SalePrice</th>\n",
       "      <td>1459</td>\n",
       "      <td>0.499829</td>\n",
       "    </tr>\n",
       "    <tr>\n",
       "      <th>TotalBsmtSF</th>\n",
       "      <td>1</td>\n",
       "      <td>0.000343</td>\n",
       "    </tr>\n",
       "    <tr>\n",
       "      <th>GarageCars</th>\n",
       "      <td>1</td>\n",
       "      <td>0.000343</td>\n",
       "    </tr>\n",
       "    <tr>\n",
       "      <th>GarageArea</th>\n",
       "      <td>1</td>\n",
       "      <td>0.000343</td>\n",
       "    </tr>\n",
       "    <tr>\n",
       "      <th>SaleType</th>\n",
       "      <td>1</td>\n",
       "      <td>0.000343</td>\n",
       "    </tr>\n",
       "    <tr>\n",
       "      <th>BsmtUnfSF</th>\n",
       "      <td>1</td>\n",
       "      <td>0.000343</td>\n",
       "    </tr>\n",
       "    <tr>\n",
       "      <th>KitchenQual</th>\n",
       "      <td>1</td>\n",
       "      <td>0.000343</td>\n",
       "    </tr>\n",
       "    <tr>\n",
       "      <th>Electrical</th>\n",
       "      <td>1</td>\n",
       "      <td>0.000343</td>\n",
       "    </tr>\n",
       "    <tr>\n",
       "      <th>BsmtFinSF2</th>\n",
       "      <td>1</td>\n",
       "      <td>0.000343</td>\n",
       "    </tr>\n",
       "    <tr>\n",
       "      <th>Exterior1st</th>\n",
       "      <td>1</td>\n",
       "      <td>0.000343</td>\n",
       "    </tr>\n",
       "  </tbody>\n",
       "</table>\n",
       "</div>"
      ],
      "text/plain": [
       "             Total   Percent\n",
       "MiscFeature   2814  0.964029\n",
       "SalePrice     1459  0.499829\n",
       "TotalBsmtSF      1  0.000343\n",
       "GarageCars       1  0.000343\n",
       "GarageArea       1  0.000343\n",
       "SaleType         1  0.000343\n",
       "BsmtUnfSF        1  0.000343\n",
       "KitchenQual      1  0.000343\n",
       "Electrical       1  0.000343\n",
       "BsmtFinSF2       1  0.000343\n",
       "Exterior1st      1  0.000343"
      ]
     },
     "execution_count": 64,
     "metadata": {},
     "output_type": "execute_result"
    }
   ],
   "source": [
    "total = df.isnull().sum().sort_values(ascending=False)\n",
    "percent = (df.isnull().sum()/df.isnull().count()).sort_values(ascending=False)\n",
    "missing_data = pd.concat([total, percent], axis=1, keys=['Total', 'Percent'])\n",
    "missing_data = missing_data[missing_data.Total>0]\n",
    "missing_data"
   ]
  },
  {
   "cell_type": "code",
   "execution_count": 65,
   "metadata": {},
   "outputs": [
    {
     "data": {
      "text/plain": [
       "966.4623115577889"
      ]
     },
     "execution_count": 65,
     "metadata": {},
     "output_type": "execute_result"
    }
   ],
   "source": [
    "df[(df.BsmtFinSF1>0) & (df.BsmtFinSF1<400)].TotalBsmtSF.mean()"
   ]
  },
  {
   "cell_type": "code",
   "execution_count": 66,
   "metadata": {},
   "outputs": [],
   "source": [
    "df.TotalBsmtSF.fillna(966, inplace=True)"
   ]
  },
  {
   "cell_type": "markdown",
   "metadata": {},
   "source": [
    "## Fixing Garages s.t. other vars are 0 if garagequal is 0"
   ]
  },
  {
   "cell_type": "code",
   "execution_count": 67,
   "metadata": {},
   "outputs": [
    {
     "data": {
      "text/plain": [
       "2.0"
      ]
     },
     "execution_count": 67,
     "metadata": {},
     "output_type": "execute_result"
    }
   ],
   "source": [
    "df.GarageCars.median()"
   ]
  },
  {
   "cell_type": "code",
   "execution_count": 68,
   "metadata": {},
   "outputs": [
    {
     "data": {
      "text/plain": [
       "1116    0\n",
       "Name: GarageQual, dtype: int64"
      ]
     },
     "execution_count": 68,
     "metadata": {},
     "output_type": "execute_result"
    }
   ],
   "source": [
    "df[df.GarageCars.isnull()].GarageQual"
   ]
  },
  {
   "cell_type": "code",
   "execution_count": 69,
   "metadata": {},
   "outputs": [],
   "source": [
    "df[df.GarageQual==0].GarageYrBlt.replace(df.GarageQual, inplace=True)\n"
   ]
  },
  {
   "cell_type": "code",
   "execution_count": 70,
   "metadata": {},
   "outputs": [],
   "source": [
    "df.GarageYrBlt.loc[df.GarageQual==0] = 0"
   ]
  },
  {
   "cell_type": "code",
   "execution_count": 71,
   "metadata": {},
   "outputs": [],
   "source": [
    "df.GarageArea.loc[df.GarageQual==0] = 0"
   ]
  },
  {
   "cell_type": "code",
   "execution_count": 72,
   "metadata": {},
   "outputs": [],
   "source": [
    "df.GarageQual.loc[df.GarageQual==0] = 0"
   ]
  },
  {
   "cell_type": "code",
   "execution_count": 73,
   "metadata": {},
   "outputs": [],
   "source": [
    "df.GarageCond.loc[df.GarageQual==0] = 0"
   ]
  },
  {
   "cell_type": "code",
   "execution_count": null,
   "metadata": {},
   "outputs": [],
   "source": [
    "df.GarageCars.fillna(0, inplace=True)"
   ]
  },
  {
   "cell_type": "markdown",
   "metadata": {},
   "source": [
    "## Dropping my 2nd feature after utilities"
   ]
  },
  {
   "cell_type": "code",
   "execution_count": 74,
   "metadata": {},
   "outputs": [],
   "source": [
    "df.drop('MiscFeature', axis=1, inplace=True)"
   ]
  },
  {
   "cell_type": "markdown",
   "metadata": {},
   "source": [
    "## Finding bsmtfintype based on neighborhood"
   ]
  },
  {
   "cell_type": "code",
   "execution_count": 75,
   "metadata": {},
   "outputs": [
    {
     "data": {
      "text/plain": [
       "Neighborhood\n",
       "Blmngtn      0.000000\n",
       "Blueste     61.200000\n",
       "BrDale       9.800000\n",
       "BrkSide     19.850467\n",
       "ClearCr    196.431818\n",
       "CollgCr     27.498127\n",
       "Crawfor     62.834951\n",
       "Edwards     46.654639\n",
       "Gilbert      0.684848\n",
       "IDOTRR      18.569892\n",
       "MeadowV     44.783784\n",
       "Mitchel     46.701754\n",
       "NAmes       83.634312\n",
       "NPkVill     89.782609\n",
       "NWAmes      62.496183\n",
       "NoRidge     90.408451\n",
       "NridgHt      9.114458\n",
       "OldTown     21.334728\n",
       "SWISU       26.291667\n",
       "Sawyer     125.602649\n",
       "SawyerW     67.352000\n",
       "Somerst      8.351648\n",
       "StoneBr     29.745098\n",
       "Timber      44.208333\n",
       "Veenker    255.083333\n",
       "Name: BsmtFinSF2, dtype: float64"
      ]
     },
     "execution_count": 75,
     "metadata": {},
     "output_type": "execute_result"
    }
   ],
   "source": [
    "df.groupby('Neighborhood').BsmtFinSF2.mean()"
   ]
  },
  {
   "cell_type": "code",
   "execution_count": 76,
   "metadata": {},
   "outputs": [],
   "source": [
    "df.BsmtFinSF2.fillna(20, inplace=True)"
   ]
  },
  {
   "cell_type": "code",
   "execution_count": 77,
   "metadata": {},
   "outputs": [
    {
     "data": {
      "text/plain": [
       "WD       2525\n",
       "New       239\n",
       "COD        87\n",
       "ConLD      26\n",
       "CWD        12\n",
       "ConLI       9\n",
       "ConLw       8\n",
       "Oth         7\n",
       "Con         5\n",
       "Name: SaleType, dtype: int64"
      ]
     },
     "execution_count": 77,
     "metadata": {},
     "output_type": "execute_result"
    }
   ],
   "source": [
    "df.SaleType.value_counts()"
   ]
  },
  {
   "cell_type": "code",
   "execution_count": 78,
   "metadata": {},
   "outputs": [
    {
     "data": {
      "text/plain": [
       "Normal     2314\n",
       "Abnorml     133\n",
       "Family       38\n",
       "Alloca       24\n",
       "AdjLand      12\n",
       "Partial       4\n",
       "Name: SaleCondition, dtype: int64"
      ]
     },
     "execution_count": 78,
     "metadata": {},
     "output_type": "execute_result"
    }
   ],
   "source": [
    "df[df.SaleType=='WD'].SaleCondition.value_counts()"
   ]
  },
  {
   "cell_type": "code",
   "execution_count": 79,
   "metadata": {},
   "outputs": [
    {
     "data": {
      "text/plain": [
       "WD       2314\n",
       "COD        39\n",
       "ConLD      21\n",
       "CWD        10\n",
       "ConLw       7\n",
       "ConLI       5\n",
       "Con         4\n",
       "Oth         1\n",
       "Name: SaleType, dtype: int64"
      ]
     },
     "execution_count": 79,
     "metadata": {},
     "output_type": "execute_result"
    }
   ],
   "source": [
    "df[df.SaleCondition=='Normal'].SaleType.value_counts()"
   ]
  },
  {
   "cell_type": "code",
   "execution_count": 80,
   "metadata": {},
   "outputs": [],
   "source": [
    "df.SaleType.fillna('WD', inplace=True)"
   ]
  },
  {
   "cell_type": "code",
   "execution_count": 81,
   "metadata": {},
   "outputs": [],
   "source": [
    "df.BsmtUnfSF.fillna(df.BsmtUnfSF.mean(), inplace=True)\n"
   ]
  },
  {
   "cell_type": "markdown",
   "metadata": {},
   "source": [
    "## Another check in"
   ]
  },
  {
   "cell_type": "code",
   "execution_count": 82,
   "metadata": {},
   "outputs": [
    {
     "data": {
      "text/html": [
       "<div>\n",
       "<style scoped>\n",
       "    .dataframe tbody tr th:only-of-type {\n",
       "        vertical-align: middle;\n",
       "    }\n",
       "\n",
       "    .dataframe tbody tr th {\n",
       "        vertical-align: top;\n",
       "    }\n",
       "\n",
       "    .dataframe thead th {\n",
       "        text-align: right;\n",
       "    }\n",
       "</style>\n",
       "<table border=\"1\" class=\"dataframe\">\n",
       "  <thead>\n",
       "    <tr style=\"text-align: right;\">\n",
       "      <th></th>\n",
       "      <th>Total</th>\n",
       "      <th>Percent</th>\n",
       "    </tr>\n",
       "  </thead>\n",
       "  <tbody>\n",
       "    <tr>\n",
       "      <th>SalePrice</th>\n",
       "      <td>1459</td>\n",
       "      <td>0.499829</td>\n",
       "    </tr>\n",
       "    <tr>\n",
       "      <th>Exterior1st</th>\n",
       "      <td>1</td>\n",
       "      <td>0.000343</td>\n",
       "    </tr>\n",
       "    <tr>\n",
       "      <th>GarageCars</th>\n",
       "      <td>1</td>\n",
       "      <td>0.000343</td>\n",
       "    </tr>\n",
       "    <tr>\n",
       "      <th>KitchenQual</th>\n",
       "      <td>1</td>\n",
       "      <td>0.000343</td>\n",
       "    </tr>\n",
       "    <tr>\n",
       "      <th>Electrical</th>\n",
       "      <td>1</td>\n",
       "      <td>0.000343</td>\n",
       "    </tr>\n",
       "  </tbody>\n",
       "</table>\n",
       "</div>"
      ],
      "text/plain": [
       "             Total   Percent\n",
       "SalePrice     1459  0.499829\n",
       "Exterior1st      1  0.000343\n",
       "GarageCars       1  0.000343\n",
       "KitchenQual      1  0.000343\n",
       "Electrical       1  0.000343"
      ]
     },
     "execution_count": 82,
     "metadata": {},
     "output_type": "execute_result"
    }
   ],
   "source": [
    "total = df.isnull().sum().sort_values(ascending=False)\n",
    "percent = (df.isnull().sum()/df.isnull().count()).sort_values(ascending=False)\n",
    "missing_data = pd.concat([total, percent], axis=1, keys=['Total', 'Percent'])\n",
    "missing_data = missing_data[missing_data.Total>0]\n",
    "missing_data"
   ]
  },
  {
   "cell_type": "code",
   "execution_count": 83,
   "metadata": {},
   "outputs": [
    {
     "data": {
      "text/plain": [
       "691    VinylSd\n",
       "Name: Exterior2nd, dtype: object"
      ]
     },
     "execution_count": 83,
     "metadata": {},
     "output_type": "execute_result"
    }
   ],
   "source": [
    "df[df.Exterior1st.isnull()].Exterior2nd"
   ]
  },
  {
   "cell_type": "code",
   "execution_count": 84,
   "metadata": {},
   "outputs": [
    {
     "data": {
      "text/plain": [
       "VinylSd    1005\n",
       "Wd Sdng       3\n",
       "MetalSd       2\n",
       "Plywood       1\n",
       "AsbShng       1\n",
       "BrkFace       1\n",
       "CBlock        1\n",
       "Name: Exterior1st, dtype: int64"
      ]
     },
     "execution_count": 84,
     "metadata": {},
     "output_type": "execute_result"
    }
   ],
   "source": [
    "df[df.Exterior2nd=='VinylSd'].Exterior1st.value_counts()"
   ]
  },
  {
   "cell_type": "code",
   "execution_count": 85,
   "metadata": {},
   "outputs": [],
   "source": [
    "df.Exterior1st.fillna('VinylSd', inplace=True)"
   ]
  },
  {
   "cell_type": "code",
   "execution_count": 86,
   "metadata": {},
   "outputs": [
    {
     "data": {
      "text/plain": [
       "95    1\n",
       "Name: KitchenAbvGr, dtype: int64"
      ]
     },
     "execution_count": 86,
     "metadata": {},
     "output_type": "execute_result"
    }
   ],
   "source": [
    "df[df.KitchenQual.isnull()].KitchenAbvGr"
   ]
  },
  {
   "cell_type": "code",
   "execution_count": 87,
   "metadata": {},
   "outputs": [
    {
     "data": {
      "text/plain": [
       "TA    198\n",
       "Gd     57\n",
       "Fa     30\n",
       "Ex      7\n",
       "Name: KitchenQual, dtype: int64"
      ]
     },
     "execution_count": 87,
     "metadata": {},
     "output_type": "execute_result"
    }
   ],
   "source": [
    "df[df.YearBuilt<1925].KitchenQual.value_counts()"
   ]
  },
  {
   "cell_type": "code",
   "execution_count": 88,
   "metadata": {},
   "outputs": [],
   "source": [
    "df.KitchenQual.fillna('TA', inplace=True)"
   ]
  },
  {
   "cell_type": "code",
   "execution_count": 89,
   "metadata": {},
   "outputs": [],
   "source": [
    "df.Electrical.fillna('Sbrkr', inplace=True)"
   ]
  },
  {
   "cell_type": "markdown",
   "metadata": {},
   "source": [
    "## Changing variable types and making factors ordinal"
   ]
  },
  {
   "cell_type": "code",
   "execution_count": 90,
   "metadata": {},
   "outputs": [],
   "source": [
    "df.BsmtCond = pd.to_numeric(df.BsmtCond)\n"
   ]
  },
  {
   "cell_type": "code",
   "execution_count": 92,
   "metadata": {},
   "outputs": [],
   "source": [
    "df.Alley.replace({'None' : 0, 'Grvl' : 1, 'Pave' : 2}, inplace=True)"
   ]
  },
  {
   "cell_type": "code",
   "execution_count": 93,
   "metadata": {},
   "outputs": [],
   "source": [
    "df.CentralAir.replace({'Y' : 0, 'N' : 1}, inplace=True)\n"
   ]
  },
  {
   "cell_type": "code",
   "execution_count": 94,
   "metadata": {},
   "outputs": [],
   "source": [
    "df.PavedDrive.replace({'N' : 0, 'P' : 1, 'Y' : 2}, inplace=True)\n"
   ]
  },
  {
   "cell_type": "code",
   "execution_count": 95,
   "metadata": {},
   "outputs": [],
   "source": [
    "df.ExterCond.replace({'Po' : 0, 'Fa' : 1, 'TA' : 2, 'Gd' : 3, 'Ex' : 4}, inplace=True)"
   ]
  },
  {
   "cell_type": "code",
   "execution_count": 96,
   "metadata": {},
   "outputs": [],
   "source": [
    "df.ExterQual.replace({'Po' : 0, 'Fa' : 1, 'TA' : 2, 'Gd' : 3, 'Ex' : 4}, inplace=True)"
   ]
  },
  {
   "cell_type": "code",
   "execution_count": 97,
   "metadata": {},
   "outputs": [],
   "source": [
    "df.Street.replace({'Grvl' : 0, 'Pave' : 1}, inplace=True)"
   ]
  },
  {
   "cell_type": "code",
   "execution_count": 98,
   "metadata": {},
   "outputs": [],
   "source": [
    "df.KitchenQual.replace({'Po' : 0, 'Fa' : 1, 'TA' : 2, 'Gd' : 3, 'Ex' : 4}, inplace=True)"
   ]
  },
  {
   "cell_type": "code",
   "execution_count": 99,
   "metadata": {},
   "outputs": [],
   "source": [
    "df.HouseStyle.replace({'SFoyer' : 0, 'SLvl' : 1, '1Story' : 2, '1.5Unf' : 3, '1.5Fin': 4, '2Story' : 5, '2.5Unf' : 6, '2.5Fin' : 7}, inplace=True)"
   ]
  },
  {
   "cell_type": "code",
   "execution_count": 100,
   "metadata": {},
   "outputs": [],
   "source": [
    "df.LandSlope.replace({'Sev' : 0, 'Gtl' : 1, 'Mod' : 2}, inplace=True)\n"
   ]
  },
  {
   "cell_type": "code",
   "execution_count": 101,
   "metadata": {},
   "outputs": [],
   "source": [
    "df.drop('Id', inplace=True, axis=1)"
   ]
  },
  {
   "cell_type": "markdown",
   "metadata": {},
   "source": [
    "## Dummifying"
   ]
  },
  {
   "cell_type": "code",
   "execution_count": 419,
   "metadata": {},
   "outputs": [],
   "source": [
    "numvars = df.select_dtypes(include=['int64', 'float64']).columns.values\n",
    "num_ = df[numvars]"
   ]
  },
  {
   "cell_type": "code",
   "execution_count": 420,
   "metadata": {},
   "outputs": [],
   "source": [
    "objectvars = df.select_dtypes(include=['object']).columns.values\n",
    "obj_ = df[objectvars]"
   ]
  },
  {
   "cell_type": "code",
   "execution_count": 421,
   "metadata": {},
   "outputs": [],
   "source": [
    "obj_dummy_vars = pd.DataFrame()\n",
    "for col in obj_.columns.values:\n",
    "    dummy = pd.get_dummies(obj_[col])\n",
    "    dummy.drop(dummy.columns[1], axis=1,inplace=True)\n",
    "    obj_dummy_vars = pd.concat([obj_dummy_vars, dummy], axis=1)"
   ]
  },
  {
   "cell_type": "code",
   "execution_count": 422,
   "metadata": {},
   "outputs": [],
   "source": [
    "df2 = pd.concat([num_, obj_dummy_vars], axis=1)"
   ]
  },
  {
   "cell_type": "markdown",
   "metadata": {},
   "source": [
    "## splitting DF"
   ]
  },
  {
   "cell_type": "code",
   "execution_count": 423,
   "metadata": {},
   "outputs": [],
   "source": [
    "df2.fillna(0, inplace=True)"
   ]
  },
  {
   "cell_type": "code",
   "execution_count": 354,
   "metadata": {},
   "outputs": [],
   "source": [
    "train = df2[0:1460]"
   ]
  },
  {
   "cell_type": "code",
   "execution_count": 424,
   "metadata": {},
   "outputs": [],
   "source": [
    "test = df2[1460:2919]"
   ]
  },
  {
   "cell_type": "code",
   "execution_count": 401,
   "metadata": {},
   "outputs": [],
   "source": [
    "y_train = train.SalePrice"
   ]
  },
  {
   "cell_type": "code",
   "execution_count": 402,
   "metadata": {},
   "outputs": [],
   "source": [
    "y_train = np.log(y_train)"
   ]
  },
  {
   "cell_type": "code",
   "execution_count": 358,
   "metadata": {},
   "outputs": [],
   "source": [
    "x_train = train.drop('SalePrice', axis=1)"
   ]
  },
  {
   "cell_type": "code",
   "execution_count": 425,
   "metadata": {},
   "outputs": [],
   "source": [
    "x_test = test.drop('SalePrice', axis=1)"
   ]
  },
  {
   "cell_type": "code",
   "execution_count": 368,
   "metadata": {},
   "outputs": [
    {
     "data": {
      "text/plain": [
       "uint8      136\n",
       "int64       46\n",
       "float64     12\n",
       "dtype: int64"
      ]
     },
     "execution_count": 368,
     "metadata": {},
     "output_type": "execute_result"
    }
   ],
   "source": [
    "x_train.dtypes.value_counts()\n"
   ]
  },
  {
   "cell_type": "code",
   "execution_count": 426,
   "metadata": {},
   "outputs": [
    {
     "data": {
      "text/plain": [
       "uint8      136\n",
       "int64       46\n",
       "float64     12\n",
       "dtype: int64"
      ]
     },
     "execution_count": 426,
     "metadata": {},
     "output_type": "execute_result"
    }
   ],
   "source": [
    "x_test.dtypes.value_counts()"
   ]
  },
  {
   "cell_type": "markdown",
   "metadata": {},
   "source": [
    "## Using Lasso to drop variables"
   ]
  },
  {
   "cell_type": "code",
   "execution_count": 404,
   "metadata": {},
   "outputs": [
    {
     "data": {
      "text/plain": [
       "(array([  4.,   2.,  12.,  70., 632., 653.,  79.,   6.,   1.,   1.]),\n",
       " array([-6.75789901e-01, -5.40632289e-01, -4.05474678e-01, -2.70317067e-01,\n",
       "        -1.35159456e-01, -1.84447919e-06,  1.35155767e-01,  2.70313378e-01,\n",
       "         4.05470989e-01,  5.40628601e-01,  6.75786212e-01]),\n",
       " <a list of 10 Patch objects>)"
      ]
     },
     "execution_count": 404,
     "metadata": {},
     "output_type": "execute_result"
    },
    {
     "data": {
      "image/png": "[encoded data removed]",
      "text/plain": [
       "<Figure size 432x288 with 1 Axes>"
      ]
     },
     "metadata": {
      "needs_background": "light"
     },
     "output_type": "display_data"
    }
   ],
   "source": [
    "from sklearn.linear_model import LinearRegression\n",
    "lm = LinearRegression()\n",
    "lm.fit(x_train, y_train)\n",
    "residuals = y_train - lm.predict(x_train)\n",
    "plt.hist(residuals)"
   ]
  },
  {
   "cell_type": "code",
   "execution_count": 405,
   "metadata": {},
   "outputs": [
    {
     "name": "stdout",
     "output_type": "stream",
     "text": [
      "R^2 is equal to 0.939\n"
     ]
    }
   ],
   "source": [
    "print('R^2 is equal to %.3f' %(lm.score(x_train, y_train)))\n",
    "\n"
   ]
  },
  {
   "cell_type": "code",
   "execution_count": 406,
   "metadata": {},
   "outputs": [],
   "source": [
    "N_alpha = 100\n",
    "alphaRange = np.logspace(-10, 2, N_alpha)\n",
    "grid_para_lasso = [{\n",
    "    'alpha' : alphaRange,\n",
    "}]"
   ]
  },
  {
   "cell_type": "code",
   "execution_count": 407,
   "metadata": {},
   "outputs": [
    {
     "name": "stdout",
     "output_type": "stream",
     "text": [
      "CPU times: user 3.41 s, sys: 349 ms, total: 3.76 s\n",
      "Wall time: 27.9 s\n"
     ]
    },
    {
     "data": {
      "text/plain": [
       "GridSearchCV(cv=5, error_score='raise-deprecating',\n",
       "             estimator=Lasso(alpha=1.0, copy_X=True, fit_intercept=True,\n",
       "                             max_iter=1000, normalize=False, positive=False,\n",
       "                             precompute=False, random_state=None,\n",
       "                             selection='cyclic', tol=0.0001, warm_start=False),\n",
       "             iid='warn', n_jobs=-1,\n",
       "             param_grid=[{'alpha': array([1.00000000e-10, 1.32194115e-10, 1.74752840e-10, 2.31012970e-10,\n",
       "       3.0538...\n",
       "       4.97702356e-01, 6.57933225e-01, 8.69749003e-01, 1.14975700e+00,\n",
       "       1.51991108e+00, 2.00923300e+00, 2.65608778e+00, 3.51119173e+00,\n",
       "       4.64158883e+00, 6.13590727e+00, 8.11130831e+00, 1.07226722e+01,\n",
       "       1.41747416e+01, 1.87381742e+01, 2.47707636e+01, 3.27454916e+01,\n",
       "       4.32876128e+01, 5.72236766e+01, 7.56463328e+01, 1.00000000e+02])}],\n",
       "             pre_dispatch='2*n_jobs', refit=True, return_train_score=False,\n",
       "             scoring='r2', verbose=0)"
      ]
     },
     "execution_count": 407,
     "metadata": {},
     "output_type": "execute_result"
    }
   ],
   "source": [
    "lasso = Lasso()\n",
    "grid_search_lasso = GridSearchCV(lasso, grid_para_lasso, scoring='r2', cv=5, n_jobs=-1)\n",
    "%time grid_search_lasso.fit(x_train, y_train)"
   ]
  },
  {
   "cell_type": "code",
   "execution_count": 408,
   "metadata": {},
   "outputs": [
    {
     "data": {
      "text/plain": [
       "{'alpha': 0.0006135907273413176}"
      ]
     },
     "execution_count": 408,
     "metadata": {},
     "output_type": "execute_result"
    }
   ],
   "source": [
    "grid_search_lasso.best_params_"
   ]
  },
  {
   "cell_type": "code",
   "execution_count": 409,
   "metadata": {},
   "outputs": [
    {
     "name": "stdout",
     "output_type": "stream",
     "text": [
      "The slopes are \n",
      "1stFlrSF         0.000025\n",
      "3SsnPorch        0.000195\n",
      "Alley            0.004466\n",
      "BedroomAbvGr     0.002865\n",
      "BsmtExposure     0.015407\n",
      "BsmtFinSF1       0.000034\n",
      "BsmtFinSF2       0.000039\n",
      "BsmtFinType1     0.006866\n",
      "BsmtFinType2    -0.002121\n",
      "BsmtFullBath     0.029384\n",
      "BsmtQual         0.016718\n",
      "CentralAir      -0.041732\n",
      "EnclosedPorch    0.000145\n",
      "ExterCond       -0.005322\n",
      "ExterQual        0.002281\n",
      "Fence           -0.002229\n",
      "FireplaceQu      0.010013\n",
      "Fireplaces       0.005788\n",
      "FullBath         0.018236\n",
      "Functional       0.029471\n",
      "GarageArea       0.000057\n",
      "GarageCars       0.038094\n",
      "GarageCond       0.001196\n",
      "GarageFinish     0.006277\n",
      "GarageQual       0.028949\n",
      "GarageYrBlt     -0.000034\n",
      "GrLivArea        0.000223\n",
      "HalfBath         0.018406\n",
      "HouseStyle      -0.003709\n",
      "KitchenQual      0.018937\n",
      "                   ...   \n",
      "BrkTil          -0.014440\n",
      "PConc            0.019564\n",
      "BuiltIn         -0.006615\n",
      "GasW             0.011625\n",
      "Ex               0.025567\n",
      "Gd               0.000791\n",
      "Bnk             -0.033261\n",
      "FR2             -0.008882\n",
      "Inside          -0.012330\n",
      "C (all)         -0.287139\n",
      "RL               0.006737\n",
      "RM              -0.054488\n",
      "BrkSide          0.034157\n",
      "ClearCr          0.040693\n",
      "Crawfor          0.105774\n",
      "Edwards         -0.039033\n",
      "MeadowV         -0.036602\n",
      "Mitchel         -0.001688\n",
      "NoRidge          0.035312\n",
      "NridgHt          0.082556\n",
      "Somerst          0.051873\n",
      "StoneBr          0.096553\n",
      "ClyTile         -1.113362\n",
      "Hip              0.004161\n",
      "Abnorml         -0.056261\n",
      "Family          -0.010367\n",
      "Normal           0.013641\n",
      "COD             -0.013830\n",
      "New              0.014887\n",
      "WD              -0.031614\n",
      "Length: 92, dtype: float64\n"
     ]
    },
    {
     "data": {
      "text/plain": [
       "0.9228493378450263"
      ]
     },
     "execution_count": 409,
     "metadata": {},
     "output_type": "execute_result"
    }
   ],
   "source": [
    "lasso.set_params(alpha=0.0006, normalize=False, max_iter=1e5)\n",
    "lasso.fit(x_train, y_train)\n",
    "lassoCoef = pd.Series(lasso.coef_, index=x_train.columns)\n",
    "print('The slopes are \\n%s' %(lassoCoef[lassoCoef!=0]))\n",
    "lasso.score(x_train, y_train)"
   ]
  },
  {
   "cell_type": "markdown",
   "metadata": {},
   "source": [
    "## Getting Lasso Important Vars\n"
   ]
  },
  {
   "cell_type": "code",
   "execution_count": 410,
   "metadata": {},
   "outputs": [],
   "source": [
    "sig_vars = lassoCoef[lassoCoef!=0].index"
   ]
  },
  {
   "cell_type": "code",
   "execution_count": 411,
   "metadata": {},
   "outputs": [],
   "source": [
    "x_train2 = x_train[sig_vars]"
   ]
  },
  {
   "cell_type": "markdown",
   "metadata": {},
   "source": [
    "## Trying ElasticNet (net) "
   ]
  },
  {
   "cell_type": "code",
   "execution_count": 412,
   "metadata": {},
   "outputs": [],
   "source": [
    "N_alpha = 100\n",
    "N_rho   = 11\n",
    "alphaRange = np.logspace(-10, 2, N_alpha)\n",
    "rhoRange   = np.linspace(0,1, N_rho)"
   ]
  },
  {
   "cell_type": "code",
   "execution_count": 413,
   "metadata": {},
   "outputs": [],
   "source": [
    "grid_para_net = [{\n",
    "    'alpha' : alphaRange,\n",
    "    'l1_ratio' : rhoRange\n",
    "}]"
   ]
  },
  {
   "cell_type": "code",
   "execution_count": 414,
   "metadata": {},
   "outputs": [
    {
     "name": "stdout",
     "output_type": "stream",
     "text": [
      "CPU times: user 13.6 s, sys: 688 ms, total: 14.3 s\n",
      "Wall time: 48.1 s\n"
     ]
    },
    {
     "data": {
      "text/plain": [
       "GridSearchCV(cv=5, error_score='raise-deprecating',\n",
       "             estimator=ElasticNet(alpha=1.0, copy_X=True, fit_intercept=True,\n",
       "                                  l1_ratio=0.5, max_iter=1000, normalize=False,\n",
       "                                  positive=False, precompute=False,\n",
       "                                  random_state=None, selection='cyclic',\n",
       "                                  tol=0.0001, warm_start=False),\n",
       "             iid='warn', n_jobs=-1,\n",
       "             param_grid=[{'alpha': array([1.00000000e-10, 1.32194115e-10, 1.74752840e-10, 2.3...\n",
       "       1.51991108e+00, 2.00923300e+00, 2.65608778e+00, 3.51119173e+00,\n",
       "       4.64158883e+00, 6.13590727e+00, 8.11130831e+00, 1.07226722e+01,\n",
       "       1.41747416e+01, 1.87381742e+01, 2.47707636e+01, 3.27454916e+01,\n",
       "       4.32876128e+01, 5.72236766e+01, 7.56463328e+01, 1.00000000e+02]),\n",
       "                          'l1_ratio': array([0. , 0.1, 0.2, 0.3, 0.4, 0.5, 0.6, 0.7, 0.8, 0.9, 1. ])}],\n",
       "             pre_dispatch='2*n_jobs', refit=True, return_train_score=False,\n",
       "             scoring='r2', verbose=0)"
      ]
     },
     "execution_count": 414,
     "metadata": {},
     "output_type": "execute_result"
    }
   ],
   "source": [
    "net = ElasticNet()\n",
    "grid_search_net = GridSearchCV(net, grid_para_net, scoring='r2', cv=5, n_jobs=-1)\n",
    "%time grid_search_net.fit(x_train2, y_train)"
   ]
  },
  {
   "cell_type": "code",
   "execution_count": 415,
   "metadata": {},
   "outputs": [
    {
     "data": {
      "text/plain": [
       "{'alpha': 0.0010722672220103231, 'l1_ratio': 0.1}"
      ]
     },
     "execution_count": 415,
     "metadata": {},
     "output_type": "execute_result"
    }
   ],
   "source": [
    "grid_search_net.best_params_"
   ]
  },
  {
   "cell_type": "code",
   "execution_count": 416,
   "metadata": {},
   "outputs": [
    {
     "data": {
      "text/plain": [
       "0.8851773935635097"
      ]
     },
     "execution_count": 416,
     "metadata": {},
     "output_type": "execute_result"
    }
   ],
   "source": [
    "grid_search_net.best_score_"
   ]
  },
  {
   "cell_type": "markdown",
   "metadata": {},
   "source": [
    "## Best Model is net, now predicting net"
   ]
  },
  {
   "cell_type": "code",
   "execution_count": 417,
   "metadata": {},
   "outputs": [
    {
     "data": {
      "text/plain": [
       "0.9234569490932965"
      ]
     },
     "execution_count": 417,
     "metadata": {},
     "output_type": "execute_result"
    }
   ],
   "source": [
    "net = ElasticNet()\n",
    "net.set_params(alpha=0.001, l1_ratio=0.1, normalize=False, max_iter=1e5)\n",
    "net.fit(x_train2, y_train)\n",
    "netCoef = pd.Series(net.coef_, index=x_train2.columns)\n",
    "net.score(x_train2, y_train)"
   ]
  },
  {
   "cell_type": "code",
   "execution_count": 427,
   "metadata": {},
   "outputs": [],
   "source": [
    "x_test = x_test[sig_vars]"
   ]
  },
  {
   "cell_type": "code",
   "execution_count": 428,
   "metadata": {},
   "outputs": [],
   "source": [
    "net_predict = net.predict(x_test)"
   ]
  },
  {
   "cell_type": "code",
   "execution_count": 429,
   "metadata": {},
   "outputs": [],
   "source": [
    "test_index = pd.read_csv('test.csv')\n"
   ]
  },
  {
   "cell_type": "code",
   "execution_count": 430,
   "metadata": {},
   "outputs": [],
   "source": [
    "output = pd.DataFrame(columns=['Id', 'SalePrice'])"
   ]
  },
  {
   "cell_type": "code",
   "execution_count": 431,
   "metadata": {},
   "outputs": [],
   "source": [
    "output.Id = test_index.Id"
   ]
  },
  {
   "cell_type": "code",
   "execution_count": 434,
   "metadata": {},
   "outputs": [],
   "source": [
    "output.SalePrice = np.exp(net_predict)"
   ]
  },
  {
   "cell_type": "code",
   "execution_count": 435,
   "metadata": {},
   "outputs": [],
   "source": [
    "output.to_csv('submission_net.csv', index=False)"
   ]
  },
  {
   "cell_type": "markdown",
   "metadata": {},
   "source": [
    "## Trying LASSO"
   ]
  },
  {
   "cell_type": "code",
   "execution_count": 440,
   "metadata": {},
   "outputs": [
    {
     "data": {
      "text/plain": [
       "0.9228492984500286"
      ]
     },
     "execution_count": 440,
     "metadata": {},
     "output_type": "execute_result"
    }
   ],
   "source": [
    "lasso = Lasso()\n",
    "lasso.set_params(alpha=0.0006, normalize=False, max_iter=1e5)\n",
    "lasso.fit(x_train2, y_train)\n",
    "lassoCoef = pd.Series(lasso.coef_, index=x_train2.columns)\n",
    "lasso.score(x_train2, y_train)"
   ]
  },
  {
   "cell_type": "code",
   "execution_count": 441,
   "metadata": {},
   "outputs": [],
   "source": [
    "lasso_predict = lasso.predict(x_test)"
   ]
  },
  {
   "cell_type": "code",
   "execution_count": 442,
   "metadata": {},
   "outputs": [],
   "source": [
    "output = pd.DataFrame(columns=['Id', 'SalePrice'])\n",
    "output.Id = test_index.Id\n",
    "output.SalePrice = np.exp(lasso_predict)\n",
    "output.to_csv('submission_lasso.csv', index=False)\n",
    "\n",
    "# score of 0.125"
   ]
  },
  {
   "cell_type": "markdown",
   "metadata": {},
   "source": [
    "## Trying BOOST"
   ]
  },
  {
   "cell_type": "code",
   "execution_count": 444,
   "metadata": {},
   "outputs": [],
   "source": [
    "from sklearn.ensemble import GradientBoostingClassifier, GradientBoostingRegressor\n",
    "\n",
    "gbm = GradientBoostingRegressor()"
   ]
  },
  {
   "cell_type": "code",
   "execution_count": 540,
   "metadata": {},
   "outputs": [],
   "source": [
    "grid_para_gbm = [{\n",
    "    #'learning_rate': np.linspace(0.01, 0.1, 10)\n",
    "    #,\n",
    "    'n_estimators': np.arange(500,10000,1000)\n",
    "    #,\n",
    "    #'subsample' : np.linspace(0.01,1,5),\n",
    "    #max_depth' : np.arange(1,10,2),\n",
    "    #'max_features': np.arange(1,10,2)\n",
    "    \n",
    "}]"
   ]
  },
  {
   "cell_type": "code",
   "execution_count": 543,
   "metadata": {
    "collapsed": true
   },
   "outputs": [
    {
     "ename": "KeyboardInterrupt",
     "evalue": "",
     "output_type": "error",
     "traceback": [
      "\u001b[0;31m---------------------------------------------------------------------------\u001b[0m",
      "\u001b[0;31mKeyboardInterrupt\u001b[0m                         Traceback (most recent call last)",
      "\u001b[0;32m<timed eval>\u001b[0m in \u001b[0;36m<module>\u001b[0;34m\u001b[0m\n",
      "\u001b[0;32m~/anaconda3/lib/python3.7/site-packages/sklearn/model_selection/_search.py\u001b[0m in \u001b[0;36mfit\u001b[0;34m(self, X, y, groups, **fit_params)\u001b[0m\n\u001b[1;32m    686\u001b[0m                 \u001b[0;32mreturn\u001b[0m \u001b[0mresults\u001b[0m\u001b[0;34m\u001b[0m\u001b[0;34m\u001b[0m\u001b[0m\n\u001b[1;32m    687\u001b[0m \u001b[0;34m\u001b[0m\u001b[0m\n\u001b[0;32m--> 688\u001b[0;31m             \u001b[0mself\u001b[0m\u001b[0;34m.\u001b[0m\u001b[0m_run_search\u001b[0m\u001b[0;34m(\u001b[0m\u001b[0mevaluate_candidates\u001b[0m\u001b[0;34m)\u001b[0m\u001b[0;34m\u001b[0m\u001b[0;34m\u001b[0m\u001b[0m\n\u001b[0m\u001b[1;32m    689\u001b[0m \u001b[0;34m\u001b[0m\u001b[0m\n\u001b[1;32m    690\u001b[0m         \u001b[0;31m# For multi-metric evaluation, store the best_index_, best_params_ and\u001b[0m\u001b[0;34m\u001b[0m\u001b[0;34m\u001b[0m\u001b[0;34m\u001b[0m\u001b[0m\n",
      "\u001b[0;32m~/anaconda3/lib/python3.7/site-packages/sklearn/model_selection/_search.py\u001b[0m in \u001b[0;36m_run_search\u001b[0;34m(self, evaluate_candidates)\u001b[0m\n\u001b[1;32m   1147\u001b[0m     \u001b[0;32mdef\u001b[0m \u001b[0m_run_search\u001b[0m\u001b[0;34m(\u001b[0m\u001b[0mself\u001b[0m\u001b[0;34m,\u001b[0m \u001b[0mevaluate_candidates\u001b[0m\u001b[0;34m)\u001b[0m\u001b[0;34m:\u001b[0m\u001b[0;34m\u001b[0m\u001b[0;34m\u001b[0m\u001b[0m\n\u001b[1;32m   1148\u001b[0m         \u001b[0;34m\"\"\"Search all candidates in param_grid\"\"\"\u001b[0m\u001b[0;34m\u001b[0m\u001b[0;34m\u001b[0m\u001b[0m\n\u001b[0;32m-> 1149\u001b[0;31m         \u001b[0mevaluate_candidates\u001b[0m\u001b[0;34m(\u001b[0m\u001b[0mParameterGrid\u001b[0m\u001b[0;34m(\u001b[0m\u001b[0mself\u001b[0m\u001b[0;34m.\u001b[0m\u001b[0mparam_grid\u001b[0m\u001b[0;34m)\u001b[0m\u001b[0;34m)\u001b[0m\u001b[0;34m\u001b[0m\u001b[0;34m\u001b[0m\u001b[0m\n\u001b[0m\u001b[1;32m   1150\u001b[0m \u001b[0;34m\u001b[0m\u001b[0m\n\u001b[1;32m   1151\u001b[0m \u001b[0;34m\u001b[0m\u001b[0m\n",
      "\u001b[0;32m~/anaconda3/lib/python3.7/site-packages/sklearn/model_selection/_search.py\u001b[0m in \u001b[0;36mevaluate_candidates\u001b[0;34m(candidate_params)\u001b[0m\n\u001b[1;32m    665\u001b[0m                                \u001b[0;32mfor\u001b[0m \u001b[0mparameters\u001b[0m\u001b[0;34m,\u001b[0m \u001b[0;34m(\u001b[0m\u001b[0mtrain\u001b[0m\u001b[0;34m,\u001b[0m \u001b[0mtest\u001b[0m\u001b[0;34m)\u001b[0m\u001b[0;34m\u001b[0m\u001b[0;34m\u001b[0m\u001b[0m\n\u001b[1;32m    666\u001b[0m                                in product(candidate_params,\n\u001b[0;32m--> 667\u001b[0;31m                                           cv.split(X, y, groups)))\n\u001b[0m\u001b[1;32m    668\u001b[0m \u001b[0;34m\u001b[0m\u001b[0m\n\u001b[1;32m    669\u001b[0m                 \u001b[0;32mif\u001b[0m \u001b[0mlen\u001b[0m\u001b[0;34m(\u001b[0m\u001b[0mout\u001b[0m\u001b[0;34m)\u001b[0m \u001b[0;34m<\u001b[0m \u001b[0;36m1\u001b[0m\u001b[0;34m:\u001b[0m\u001b[0;34m\u001b[0m\u001b[0;34m\u001b[0m\u001b[0m\n",
      "\u001b[0;32m~/anaconda3/lib/python3.7/site-packages/joblib/parallel.py\u001b[0m in \u001b[0;36m__call__\u001b[0;34m(self, iterable)\u001b[0m\n\u001b[1;32m    932\u001b[0m \u001b[0;34m\u001b[0m\u001b[0m\n\u001b[1;32m    933\u001b[0m             \u001b[0;32mwith\u001b[0m \u001b[0mself\u001b[0m\u001b[0;34m.\u001b[0m\u001b[0m_backend\u001b[0m\u001b[0;34m.\u001b[0m\u001b[0mretrieval_context\u001b[0m\u001b[0;34m(\u001b[0m\u001b[0;34m)\u001b[0m\u001b[0;34m:\u001b[0m\u001b[0;34m\u001b[0m\u001b[0;34m\u001b[0m\u001b[0m\n\u001b[0;32m--> 934\u001b[0;31m                 \u001b[0mself\u001b[0m\u001b[0;34m.\u001b[0m\u001b[0mretrieve\u001b[0m\u001b[0;34m(\u001b[0m\u001b[0;34m)\u001b[0m\u001b[0;34m\u001b[0m\u001b[0;34m\u001b[0m\u001b[0m\n\u001b[0m\u001b[1;32m    935\u001b[0m             \u001b[0;31m# Make sure that we get a last message telling us we are done\u001b[0m\u001b[0;34m\u001b[0m\u001b[0;34m\u001b[0m\u001b[0;34m\u001b[0m\u001b[0m\n\u001b[1;32m    936\u001b[0m             \u001b[0melapsed_time\u001b[0m \u001b[0;34m=\u001b[0m \u001b[0mtime\u001b[0m\u001b[0;34m.\u001b[0m\u001b[0mtime\u001b[0m\u001b[0;34m(\u001b[0m\u001b[0;34m)\u001b[0m \u001b[0;34m-\u001b[0m \u001b[0mself\u001b[0m\u001b[0;34m.\u001b[0m\u001b[0m_start_time\u001b[0m\u001b[0;34m\u001b[0m\u001b[0;34m\u001b[0m\u001b[0m\n",
      "\u001b[0;32m~/anaconda3/lib/python3.7/site-packages/joblib/parallel.py\u001b[0m in \u001b[0;36mretrieve\u001b[0;34m(self)\u001b[0m\n\u001b[1;32m    831\u001b[0m             \u001b[0;32mtry\u001b[0m\u001b[0;34m:\u001b[0m\u001b[0;34m\u001b[0m\u001b[0;34m\u001b[0m\u001b[0m\n\u001b[1;32m    832\u001b[0m                 \u001b[0;32mif\u001b[0m \u001b[0mgetattr\u001b[0m\u001b[0;34m(\u001b[0m\u001b[0mself\u001b[0m\u001b[0;34m.\u001b[0m\u001b[0m_backend\u001b[0m\u001b[0;34m,\u001b[0m \u001b[0;34m'supports_timeout'\u001b[0m\u001b[0;34m,\u001b[0m \u001b[0;32mFalse\u001b[0m\u001b[0;34m)\u001b[0m\u001b[0;34m:\u001b[0m\u001b[0;34m\u001b[0m\u001b[0;34m\u001b[0m\u001b[0m\n\u001b[0;32m--> 833\u001b[0;31m                     \u001b[0mself\u001b[0m\u001b[0;34m.\u001b[0m\u001b[0m_output\u001b[0m\u001b[0;34m.\u001b[0m\u001b[0mextend\u001b[0m\u001b[0;34m(\u001b[0m\u001b[0mjob\u001b[0m\u001b[0;34m.\u001b[0m\u001b[0mget\u001b[0m\u001b[0;34m(\u001b[0m\u001b[0mtimeout\u001b[0m\u001b[0;34m=\u001b[0m\u001b[0mself\u001b[0m\u001b[0;34m.\u001b[0m\u001b[0mtimeout\u001b[0m\u001b[0;34m)\u001b[0m\u001b[0;34m)\u001b[0m\u001b[0;34m\u001b[0m\u001b[0;34m\u001b[0m\u001b[0m\n\u001b[0m\u001b[1;32m    834\u001b[0m                 \u001b[0;32melse\u001b[0m\u001b[0;34m:\u001b[0m\u001b[0;34m\u001b[0m\u001b[0;34m\u001b[0m\u001b[0m\n\u001b[1;32m    835\u001b[0m                     \u001b[0mself\u001b[0m\u001b[0;34m.\u001b[0m\u001b[0m_output\u001b[0m\u001b[0;34m.\u001b[0m\u001b[0mextend\u001b[0m\u001b[0;34m(\u001b[0m\u001b[0mjob\u001b[0m\u001b[0;34m.\u001b[0m\u001b[0mget\u001b[0m\u001b[0;34m(\u001b[0m\u001b[0;34m)\u001b[0m\u001b[0;34m)\u001b[0m\u001b[0;34m\u001b[0m\u001b[0;34m\u001b[0m\u001b[0m\n",
      "\u001b[0;32m~/anaconda3/lib/python3.7/site-packages/joblib/_parallel_backends.py\u001b[0m in \u001b[0;36mwrap_future_result\u001b[0;34m(future, timeout)\u001b[0m\n\u001b[1;32m    519\u001b[0m         AsyncResults.get from multiprocessing.\"\"\"\n\u001b[1;32m    520\u001b[0m         \u001b[0;32mtry\u001b[0m\u001b[0;34m:\u001b[0m\u001b[0;34m\u001b[0m\u001b[0;34m\u001b[0m\u001b[0m\n\u001b[0;32m--> 521\u001b[0;31m             \u001b[0;32mreturn\u001b[0m \u001b[0mfuture\u001b[0m\u001b[0;34m.\u001b[0m\u001b[0mresult\u001b[0m\u001b[0;34m(\u001b[0m\u001b[0mtimeout\u001b[0m\u001b[0;34m=\u001b[0m\u001b[0mtimeout\u001b[0m\u001b[0;34m)\u001b[0m\u001b[0;34m\u001b[0m\u001b[0;34m\u001b[0m\u001b[0m\n\u001b[0m\u001b[1;32m    522\u001b[0m         \u001b[0;32mexcept\u001b[0m \u001b[0mLokyTimeoutError\u001b[0m\u001b[0;34m:\u001b[0m\u001b[0;34m\u001b[0m\u001b[0;34m\u001b[0m\u001b[0m\n\u001b[1;32m    523\u001b[0m             \u001b[0;32mraise\u001b[0m \u001b[0mTimeoutError\u001b[0m\u001b[0;34m(\u001b[0m\u001b[0;34m)\u001b[0m\u001b[0;34m\u001b[0m\u001b[0;34m\u001b[0m\u001b[0m\n",
      "\u001b[0;32m~/anaconda3/lib/python3.7/concurrent/futures/_base.py\u001b[0m in \u001b[0;36mresult\u001b[0;34m(self, timeout)\u001b[0m\n\u001b[1;32m    425\u001b[0m                 \u001b[0;32mreturn\u001b[0m \u001b[0mself\u001b[0m\u001b[0;34m.\u001b[0m\u001b[0m__get_result\u001b[0m\u001b[0;34m(\u001b[0m\u001b[0;34m)\u001b[0m\u001b[0;34m\u001b[0m\u001b[0;34m\u001b[0m\u001b[0m\n\u001b[1;32m    426\u001b[0m \u001b[0;34m\u001b[0m\u001b[0m\n\u001b[0;32m--> 427\u001b[0;31m             \u001b[0mself\u001b[0m\u001b[0;34m.\u001b[0m\u001b[0m_condition\u001b[0m\u001b[0;34m.\u001b[0m\u001b[0mwait\u001b[0m\u001b[0;34m(\u001b[0m\u001b[0mtimeout\u001b[0m\u001b[0;34m)\u001b[0m\u001b[0;34m\u001b[0m\u001b[0;34m\u001b[0m\u001b[0m\n\u001b[0m\u001b[1;32m    428\u001b[0m \u001b[0;34m\u001b[0m\u001b[0m\n\u001b[1;32m    429\u001b[0m             \u001b[0;32mif\u001b[0m \u001b[0mself\u001b[0m\u001b[0;34m.\u001b[0m\u001b[0m_state\u001b[0m \u001b[0;32min\u001b[0m \u001b[0;34m[\u001b[0m\u001b[0mCANCELLED\u001b[0m\u001b[0;34m,\u001b[0m \u001b[0mCANCELLED_AND_NOTIFIED\u001b[0m\u001b[0;34m]\u001b[0m\u001b[0;34m:\u001b[0m\u001b[0;34m\u001b[0m\u001b[0;34m\u001b[0m\u001b[0m\n",
      "\u001b[0;32m~/anaconda3/lib/python3.7/threading.py\u001b[0m in \u001b[0;36mwait\u001b[0;34m(self, timeout)\u001b[0m\n\u001b[1;32m    294\u001b[0m         \u001b[0;32mtry\u001b[0m\u001b[0;34m:\u001b[0m    \u001b[0;31m# restore state no matter what (e.g., KeyboardInterrupt)\u001b[0m\u001b[0;34m\u001b[0m\u001b[0;34m\u001b[0m\u001b[0m\n\u001b[1;32m    295\u001b[0m             \u001b[0;32mif\u001b[0m \u001b[0mtimeout\u001b[0m \u001b[0;32mis\u001b[0m \u001b[0;32mNone\u001b[0m\u001b[0;34m:\u001b[0m\u001b[0;34m\u001b[0m\u001b[0;34m\u001b[0m\u001b[0m\n\u001b[0;32m--> 296\u001b[0;31m                 \u001b[0mwaiter\u001b[0m\u001b[0;34m.\u001b[0m\u001b[0macquire\u001b[0m\u001b[0;34m(\u001b[0m\u001b[0;34m)\u001b[0m\u001b[0;34m\u001b[0m\u001b[0;34m\u001b[0m\u001b[0m\n\u001b[0m\u001b[1;32m    297\u001b[0m                 \u001b[0mgotit\u001b[0m \u001b[0;34m=\u001b[0m \u001b[0;32mTrue\u001b[0m\u001b[0;34m\u001b[0m\u001b[0;34m\u001b[0m\u001b[0m\n\u001b[1;32m    298\u001b[0m             \u001b[0;32melse\u001b[0m\u001b[0;34m:\u001b[0m\u001b[0;34m\u001b[0m\u001b[0;34m\u001b[0m\u001b[0m\n",
      "\u001b[0;31mKeyboardInterrupt\u001b[0m: "
     ]
    }
   ],
   "source": [
    "gbm = GradientBoostingRegressor(n_estimators=7000,subsample=0.5, learning_rate=0.01, max_depth=3, max_features=7)\n",
    "grid_search_gbm = GridSearchCV(gbm, grid_para_gbm, scoring='r2', cv=5, n_jobs=-1)\n",
    "%time grid_search_gbm.fit(x_train2, y_train)"
   ]
  },
  {
   "cell_type": "code",
   "execution_count": 542,
   "metadata": {},
   "outputs": [
    {
     "data": {
      "text/plain": [
       "{'n_estimators': 8500}"
      ]
     },
     "execution_count": 542,
     "metadata": {},
     "output_type": "execute_result"
    }
   ],
   "source": [
    "grid_search_gbm.best_params_"
   ]
  },
  {
   "cell_type": "code",
   "execution_count": 544,
   "metadata": {},
   "outputs": [],
   "source": [
    "gbm = GradientBoostingRegressor(n_estimators=7000,subsample=0.5, learning_rate=0.01, max_depth=3, max_features=7)"
   ]
  },
  {
   "cell_type": "code",
   "execution_count": 547,
   "metadata": {
    "collapsed": true
   },
   "outputs": [
    {
     "data": {
      "text/plain": [
       "GradientBoostingRegressor(alpha=0.9, criterion='friedman_mse', init=None,\n",
       "                          learning_rate=0.01, loss='ls', max_depth=3,\n",
       "                          max_features=7, max_leaf_nodes=None,\n",
       "                          min_impurity_decrease=0.0, min_impurity_split=None,\n",
       "                          min_samples_leaf=1, min_samples_split=2,\n",
       "                          min_weight_fraction_leaf=0.0, n_estimators=7000,\n",
       "                          n_iter_no_change=None, presort='auto',\n",
       "                          random_state=None, subsample=0.5, tol=0.0001,\n",
       "                          validation_fraction=0.1, verbose=0, warm_start=False)"
      ]
     },
     "execution_count": 547,
     "metadata": {},
     "output_type": "execute_result"
    }
   ],
   "source": [
    "gbm.fit(x_train2, y_train)"
   ]
  },
  {
   "cell_type": "code",
   "execution_count": 595,
   "metadata": {},
   "outputs": [],
   "source": [
    "gbm_predict = gbm.predict(x_test)\n",
    "output = pd.DataFrame(columns=['Id', 'SalePrice'])\n",
    "output.Id = test_index.Id\n",
    "output.SalePrice = np.exp(gbm_predict)\n",
    "output.to_csv('submission_gbm.csv', index=False)\n",
    "\n",
    "# score of 0.125"
   ]
  },
  {
   "cell_type": "code",
   "execution_count": 596,
   "metadata": {},
   "outputs": [],
   "source": [
    "gbmlasso_predict = (gbp_predict+lasso_predict)/2\n",
    "output = pd.DataFrame(columns=['Id', 'SalePrice'])\n",
    "output.Id = test_index.Id\n",
    "output.SalePrice = np.exp(gbmlasso_predict)\n",
    "output.to_csv('submission_gbmlasso.csv', index=False)\n",
    "\n",
    "#score of .121"
   ]
  },
  {
   "cell_type": "code",
   "execution_count": 606,
   "metadata": {},
   "outputs": [],
   "source": [
    "features = pd.DataFrame(lassoCoef[lassoCoef!=0].sort_values(ascending=False))"
   ]
  },
  {
   "cell_type": "code",
   "execution_count": 608,
   "metadata": {},
   "outputs": [
    {
     "data": {
      "text/html": [
       "<div>\n",
       "<style scoped>\n",
       "    .dataframe tbody tr th:only-of-type {\n",
       "        vertical-align: middle;\n",
       "    }\n",
       "\n",
       "    .dataframe tbody tr th {\n",
       "        vertical-align: top;\n",
       "    }\n",
       "\n",
       "    .dataframe thead th {\n",
       "        text-align: right;\n",
       "    }\n",
       "</style>\n",
       "<table border=\"1\" class=\"dataframe\">\n",
       "  <thead>\n",
       "    <tr style=\"text-align: right;\">\n",
       "      <th></th>\n",
       "      <th>0</th>\n",
       "    </tr>\n",
       "  </thead>\n",
       "  <tbody>\n",
       "    <tr>\n",
       "      <th>OverallQual</th>\n",
       "      <td>0.057335</td>\n",
       "    </tr>\n",
       "  </tbody>\n",
       "</table>\n",
       "</div>"
      ],
      "text/plain": [
       "                    0\n",
       "OverallQual  0.057335"
      ]
     },
     "execution_count": 608,
     "metadata": {},
     "output_type": "execute_result"
    }
   ],
   "source": [
    "features[features.index=='OverallQual']"
   ]
  },
  {
   "cell_type": "code",
   "execution_count": 611,
   "metadata": {},
   "outputs": [
    {
     "data": {
      "text/plain": [
       "0    1459\n",
       "Name: ClyTile, dtype: int64"
      ]
     },
     "execution_count": 611,
     "metadata": {},
     "output_type": "execute_result"
    }
   ],
   "source": [
    "x_test.ClyTile.value_counts()"
   ]
  },
  {
   "cell_type": "code",
   "execution_count": 615,
   "metadata": {},
   "outputs": [
    {
     "data": {
      "text/plain": [
       "0    1450\n",
       "1      10\n",
       "Name: C (all), dtype: int64"
      ]
     },
     "execution_count": 615,
     "metadata": {},
     "output_type": "execute_result"
    }
   ],
   "source": [
    "x_train2['C (all)'].value_counts()"
   ]
  },
  {
   "cell_type": "code",
   "execution_count": 650,
   "metadata": {},
   "outputs": [
    {
     "data": {
      "text/plain": [
       "9819.161069225496"
      ]
     },
     "execution_count": 650,
     "metadata": {},
     "output_type": "execute_result"
    }
   ],
   "source": [
    "x_test.LotArea.mean()"
   ]
  },
  {
   "cell_type": "code",
   "execution_count": 649,
   "metadata": {},
   "outputs": [
    {
     "data": {
      "text/plain": [
       "0    0.000002\n",
       "Name: LotArea, dtype: float64"
      ]
     },
     "execution_count": 649,
     "metadata": {},
     "output_type": "execute_result"
    }
   ],
   "source": [
    "features.loc['LotArea']"
   ]
  },
  {
   "cell_type": "code",
   "execution_count": 648,
   "metadata": {},
   "outputs": [
    {
     "data": {
      "text/plain": [
       "0    1.000002\n",
       "Name: LotArea, dtype: float64"
      ]
     },
     "execution_count": 648,
     "metadata": {},
     "output_type": "execute_result"
    }
   ],
   "source": [
    "featuresexp.loc['LotArea']"
   ]
  },
  {
   "cell_type": "code",
   "execution_count": 624,
   "metadata": {},
   "outputs": [],
   "source": [
    "featuresexp = np.exp(features)"
   ]
  },
  {
   "cell_type": "code",
   "execution_count": 630,
   "metadata": {},
   "outputs": [
    {
     "data": {
      "text/html": [
       "<div>\n",
       "<style scoped>\n",
       "    .dataframe tbody tr th:only-of-type {\n",
       "        vertical-align: middle;\n",
       "    }\n",
       "\n",
       "    .dataframe tbody tr th {\n",
       "        vertical-align: top;\n",
       "    }\n",
       "\n",
       "    .dataframe thead th {\n",
       "        text-align: right;\n",
       "    }\n",
       "</style>\n",
       "<table border=\"1\" class=\"dataframe\">\n",
       "  <thead>\n",
       "    <tr style=\"text-align: right;\">\n",
       "      <th></th>\n",
       "      <th>0</th>\n",
       "    </tr>\n",
       "  </thead>\n",
       "  <tbody>\n",
       "    <tr>\n",
       "      <th>ClyTile</th>\n",
       "      <td>0.328452</td>\n",
       "    </tr>\n",
       "    <tr>\n",
       "      <th>C (all)</th>\n",
       "      <td>0.750408</td>\n",
       "    </tr>\n",
       "    <tr>\n",
       "      <th>PosN</th>\n",
       "      <td>0.775441</td>\n",
       "    </tr>\n",
       "    <tr>\n",
       "      <th>Abnorml</th>\n",
       "      <td>0.945289</td>\n",
       "    </tr>\n",
       "    <tr>\n",
       "      <th>RM</th>\n",
       "      <td>0.946969</td>\n",
       "    </tr>\n",
       "    <tr>\n",
       "      <th>CentralAir</th>\n",
       "      <td>0.959126</td>\n",
       "    </tr>\n",
       "    <tr>\n",
       "      <th>Edwards</th>\n",
       "      <td>0.961719</td>\n",
       "    </tr>\n",
       "    <tr>\n",
       "      <th>MeadowV</th>\n",
       "      <td>0.964059</td>\n",
       "    </tr>\n",
       "    <tr>\n",
       "      <th>Bnk</th>\n",
       "      <td>0.967287</td>\n",
       "    </tr>\n",
       "    <tr>\n",
       "      <th>WD</th>\n",
       "      <td>0.968880</td>\n",
       "    </tr>\n",
       "    <tr>\n",
       "      <th>Twnhs</th>\n",
       "      <td>0.969736</td>\n",
       "    </tr>\n",
       "    <tr>\n",
       "      <th>BrkTil</th>\n",
       "      <td>0.985663</td>\n",
       "    </tr>\n",
       "    <tr>\n",
       "      <th>COD</th>\n",
       "      <td>0.986266</td>\n",
       "    </tr>\n",
       "    <tr>\n",
       "      <th>Inside</th>\n",
       "      <td>0.987745</td>\n",
       "    </tr>\n",
       "    <tr>\n",
       "      <th>Family</th>\n",
       "      <td>0.989684</td>\n",
       "    </tr>\n",
       "    <tr>\n",
       "      <th>FR2</th>\n",
       "      <td>0.991157</td>\n",
       "    </tr>\n",
       "    <tr>\n",
       "      <th>HdBoard</th>\n",
       "      <td>0.992723</td>\n",
       "    </tr>\n",
       "    <tr>\n",
       "      <th>Wd Sdng</th>\n",
       "      <td>0.992889</td>\n",
       "    </tr>\n",
       "    <tr>\n",
       "      <th>BuiltIn</th>\n",
       "      <td>0.993407</td>\n",
       "    </tr>\n",
       "    <tr>\n",
       "      <th>ExterCond</th>\n",
       "      <td>0.994692</td>\n",
       "    </tr>\n",
       "    <tr>\n",
       "      <th>HouseStyle</th>\n",
       "      <td>0.996298</td>\n",
       "    </tr>\n",
       "    <tr>\n",
       "      <th>YrSold</th>\n",
       "      <td>0.996643</td>\n",
       "    </tr>\n",
       "    <tr>\n",
       "      <th>Fence</th>\n",
       "      <td>0.997774</td>\n",
       "    </tr>\n",
       "    <tr>\n",
       "      <th>BsmtFinType2</th>\n",
       "      <td>0.997881</td>\n",
       "    </tr>\n",
       "    <tr>\n",
       "      <th>Artery</th>\n",
       "      <td>0.998283</td>\n",
       "    </tr>\n",
       "    <tr>\n",
       "      <th>Mitchel</th>\n",
       "      <td>0.998313</td>\n",
       "    </tr>\n",
       "    <tr>\n",
       "      <th>MSSubClass</th>\n",
       "      <td>0.999483</td>\n",
       "    </tr>\n",
       "    <tr>\n",
       "      <th>MoSold</th>\n",
       "      <td>0.999521</td>\n",
       "    </tr>\n",
       "    <tr>\n",
       "      <th>Wd Sdng</th>\n",
       "      <td>0.999707</td>\n",
       "    </tr>\n",
       "    <tr>\n",
       "      <th>LotFrontage</th>\n",
       "      <td>0.999894</td>\n",
       "    </tr>\n",
       "    <tr>\n",
       "      <th>...</th>\n",
       "      <td>...</td>\n",
       "    </tr>\n",
       "    <tr>\n",
       "      <th>VinylSd</th>\n",
       "      <td>1.008043</td>\n",
       "    </tr>\n",
       "    <tr>\n",
       "      <th>LandSlope</th>\n",
       "      <td>1.009069</td>\n",
       "    </tr>\n",
       "    <tr>\n",
       "      <th>TotRmsAbvGrd</th>\n",
       "      <td>1.009213</td>\n",
       "    </tr>\n",
       "    <tr>\n",
       "      <th>FireplaceQu</th>\n",
       "      <td>1.010064</td>\n",
       "    </tr>\n",
       "    <tr>\n",
       "      <th>GasW</th>\n",
       "      <td>1.011694</td>\n",
       "    </tr>\n",
       "    <tr>\n",
       "      <th>Normal</th>\n",
       "      <td>1.013731</td>\n",
       "    </tr>\n",
       "    <tr>\n",
       "      <th>New</th>\n",
       "      <td>1.014996</td>\n",
       "    </tr>\n",
       "    <tr>\n",
       "      <th>BsmtExposure</th>\n",
       "      <td>1.015526</td>\n",
       "    </tr>\n",
       "    <tr>\n",
       "      <th>BsmtQual</th>\n",
       "      <td>1.016858</td>\n",
       "    </tr>\n",
       "    <tr>\n",
       "      <th>MetalSd</th>\n",
       "      <td>1.017890</td>\n",
       "    </tr>\n",
       "    <tr>\n",
       "      <th>FullBath</th>\n",
       "      <td>1.018404</td>\n",
       "    </tr>\n",
       "    <tr>\n",
       "      <th>HalfBath</th>\n",
       "      <td>1.018576</td>\n",
       "    </tr>\n",
       "    <tr>\n",
       "      <th>KitchenQual</th>\n",
       "      <td>1.019117</td>\n",
       "    </tr>\n",
       "    <tr>\n",
       "      <th>PConc</th>\n",
       "      <td>1.019756</td>\n",
       "    </tr>\n",
       "    <tr>\n",
       "      <th>Ex</th>\n",
       "      <td>1.025897</td>\n",
       "    </tr>\n",
       "    <tr>\n",
       "      <th>GarageQual</th>\n",
       "      <td>1.029372</td>\n",
       "    </tr>\n",
       "    <tr>\n",
       "      <th>BsmtFullBath</th>\n",
       "      <td>1.029819</td>\n",
       "    </tr>\n",
       "    <tr>\n",
       "      <th>Functional</th>\n",
       "      <td>1.029910</td>\n",
       "    </tr>\n",
       "    <tr>\n",
       "      <th>BrkSide</th>\n",
       "      <td>1.034748</td>\n",
       "    </tr>\n",
       "    <tr>\n",
       "      <th>NoRidge</th>\n",
       "      <td>1.035943</td>\n",
       "    </tr>\n",
       "    <tr>\n",
       "      <th>OverallCond</th>\n",
       "      <td>1.038768</td>\n",
       "    </tr>\n",
       "    <tr>\n",
       "      <th>GarageCars</th>\n",
       "      <td>1.038828</td>\n",
       "    </tr>\n",
       "    <tr>\n",
       "      <th>ClearCr</th>\n",
       "      <td>1.041533</td>\n",
       "    </tr>\n",
       "    <tr>\n",
       "      <th>Somerst</th>\n",
       "      <td>1.053241</td>\n",
       "    </tr>\n",
       "    <tr>\n",
       "      <th>Norm</th>\n",
       "      <td>1.054730</td>\n",
       "    </tr>\n",
       "    <tr>\n",
       "      <th>OverallQual</th>\n",
       "      <td>1.059011</td>\n",
       "    </tr>\n",
       "    <tr>\n",
       "      <th>BrkFace</th>\n",
       "      <td>1.065435</td>\n",
       "    </tr>\n",
       "    <tr>\n",
       "      <th>NridgHt</th>\n",
       "      <td>1.086059</td>\n",
       "    </tr>\n",
       "    <tr>\n",
       "      <th>StoneBr</th>\n",
       "      <td>1.101368</td>\n",
       "    </tr>\n",
       "    <tr>\n",
       "      <th>Crawfor</th>\n",
       "      <td>1.111570</td>\n",
       "    </tr>\n",
       "  </tbody>\n",
       "</table>\n",
       "<p>94 rows × 1 columns</p>\n",
       "</div>"
      ],
      "text/plain": [
       "                     0\n",
       "ClyTile       0.328452\n",
       "C (all)       0.750408\n",
       "PosN          0.775441\n",
       "Abnorml       0.945289\n",
       "RM            0.946969\n",
       "CentralAir    0.959126\n",
       "Edwards       0.961719\n",
       "MeadowV       0.964059\n",
       "Bnk           0.967287\n",
       "WD            0.968880\n",
       "Twnhs         0.969736\n",
       "BrkTil        0.985663\n",
       "COD           0.986266\n",
       "Inside        0.987745\n",
       "Family        0.989684\n",
       "FR2           0.991157\n",
       "HdBoard       0.992723\n",
       "Wd Sdng       0.992889\n",
       "BuiltIn       0.993407\n",
       "ExterCond     0.994692\n",
       "HouseStyle    0.996298\n",
       "YrSold        0.996643\n",
       "Fence         0.997774\n",
       "BsmtFinType2  0.997881\n",
       "Artery        0.998283\n",
       "Mitchel       0.998313\n",
       "MSSubClass    0.999483\n",
       "MoSold        0.999521\n",
       "Wd Sdng       0.999707\n",
       "LotFrontage   0.999894\n",
       "...                ...\n",
       "VinylSd       1.008043\n",
       "LandSlope     1.009069\n",
       "TotRmsAbvGrd  1.009213\n",
       "FireplaceQu   1.010064\n",
       "GasW          1.011694\n",
       "Normal        1.013731\n",
       "New           1.014996\n",
       "BsmtExposure  1.015526\n",
       "BsmtQual      1.016858\n",
       "MetalSd       1.017890\n",
       "FullBath      1.018404\n",
       "HalfBath      1.018576\n",
       "KitchenQual   1.019117\n",
       "PConc         1.019756\n",
       "Ex            1.025897\n",
       "GarageQual    1.029372\n",
       "BsmtFullBath  1.029819\n",
       "Functional    1.029910\n",
       "BrkSide       1.034748\n",
       "NoRidge       1.035943\n",
       "OverallCond   1.038768\n",
       "GarageCars    1.038828\n",
       "ClearCr       1.041533\n",
       "Somerst       1.053241\n",
       "Norm          1.054730\n",
       "OverallQual   1.059011\n",
       "BrkFace       1.065435\n",
       "NridgHt       1.086059\n",
       "StoneBr       1.101368\n",
       "Crawfor       1.111570\n",
       "\n",
       "[94 rows x 1 columns]"
      ]
     },
     "execution_count": 630,
     "metadata": {},
     "output_type": "execute_result"
    }
   ],
   "source": [
    "featuresexp.sort_values(by=0, ascending=True)\n",
    "\n"
   ]
  },
  {
   "cell_type": "code",
   "execution_count": 642,
   "metadata": {},
   "outputs": [],
   "source": [
    "featurecheck = pd.merge(pd.DataFrame(x_test.max()), featuresexp, left_index=True, right_index=True)"
   ]
  },
  {
   "cell_type": "code",
   "execution_count": 643,
   "metadata": {},
   "outputs": [],
   "source": [
    "featurecheck['portion'] = featurecheck['0_x']*featurecheck['0_y']"
   ]
  },
  {
   "cell_type": "code",
   "execution_count": 644,
   "metadata": {},
   "outputs": [
    {
     "data": {
      "text/html": [
       "<div>\n",
       "<style scoped>\n",
       "    .dataframe tbody tr th:only-of-type {\n",
       "        vertical-align: middle;\n",
       "    }\n",
       "\n",
       "    .dataframe tbody tr th {\n",
       "        vertical-align: top;\n",
       "    }\n",
       "\n",
       "    .dataframe thead th {\n",
       "        text-align: right;\n",
       "    }\n",
       "</style>\n",
       "<table border=\"1\" class=\"dataframe\">\n",
       "  <thead>\n",
       "    <tr style=\"text-align: right;\">\n",
       "      <th></th>\n",
       "      <th>0_x</th>\n",
       "      <th>0_y</th>\n",
       "      <th>portion</th>\n",
       "    </tr>\n",
       "  </thead>\n",
       "  <tbody>\n",
       "    <tr>\n",
       "      <th>LotArea</th>\n",
       "      <td>56600.0</td>\n",
       "      <td>1.000002</td>\n",
       "      <td>56600.106343</td>\n",
       "    </tr>\n",
       "    <tr>\n",
       "      <th>MiscVal</th>\n",
       "      <td>17000.0</td>\n",
       "      <td>0.999997</td>\n",
       "      <td>16999.941201</td>\n",
       "    </tr>\n",
       "    <tr>\n",
       "      <th>GrLivArea</th>\n",
       "      <td>5095.0</td>\n",
       "      <td>1.000223</td>\n",
       "      <td>5096.137870</td>\n",
       "    </tr>\n",
       "    <tr>\n",
       "      <th>TotalBsmtSF</th>\n",
       "      <td>5095.0</td>\n",
       "      <td>1.000027</td>\n",
       "      <td>5095.139312</td>\n",
       "    </tr>\n",
       "    <tr>\n",
       "      <th>1stFlrSF</th>\n",
       "      <td>5095.0</td>\n",
       "      <td>1.000025</td>\n",
       "      <td>5095.129795</td>\n",
       "    </tr>\n",
       "    <tr>\n",
       "      <th>BsmtFinSF1</th>\n",
       "      <td>4010.0</td>\n",
       "      <td>1.000034</td>\n",
       "      <td>4010.137757</td>\n",
       "    </tr>\n",
       "    <tr>\n",
       "      <th>GarageYrBlt</th>\n",
       "      <td>2207.0</td>\n",
       "      <td>0.999966</td>\n",
       "      <td>2206.925620</td>\n",
       "    </tr>\n",
       "    <tr>\n",
       "      <th>YearBuilt</th>\n",
       "      <td>2010.0</td>\n",
       "      <td>1.001485</td>\n",
       "      <td>2012.984796</td>\n",
       "    </tr>\n",
       "    <tr>\n",
       "      <th>YearRemodAdd</th>\n",
       "      <td>2010.0</td>\n",
       "      <td>1.000696</td>\n",
       "      <td>2011.398962</td>\n",
       "    </tr>\n",
       "    <tr>\n",
       "      <th>YrSold</th>\n",
       "      <td>2010.0</td>\n",
       "      <td>0.996643</td>\n",
       "      <td>2003.251460</td>\n",
       "    </tr>\n",
       "    <tr>\n",
       "      <th>BsmtFinSF2</th>\n",
       "      <td>1526.0</td>\n",
       "      <td>1.000039</td>\n",
       "      <td>1526.060022</td>\n",
       "    </tr>\n",
       "    <tr>\n",
       "      <th>GarageArea</th>\n",
       "      <td>1488.0</td>\n",
       "      <td>1.000057</td>\n",
       "      <td>1488.084993</td>\n",
       "    </tr>\n",
       "    <tr>\n",
       "      <th>WoodDeckSF</th>\n",
       "      <td>1424.0</td>\n",
       "      <td>1.000108</td>\n",
       "      <td>1424.154114</td>\n",
       "    </tr>\n",
       "    <tr>\n",
       "      <th>MasVnrArea</th>\n",
       "      <td>1290.0</td>\n",
       "      <td>1.000002</td>\n",
       "      <td>1290.002843</td>\n",
       "    </tr>\n",
       "    <tr>\n",
       "      <th>LowQualFinSF</th>\n",
       "      <td>1064.0</td>\n",
       "      <td>1.000008</td>\n",
       "      <td>1064.008619</td>\n",
       "    </tr>\n",
       "    <tr>\n",
       "      <th>EnclosedPorch</th>\n",
       "      <td>1012.0</td>\n",
       "      <td>1.000145</td>\n",
       "      <td>1012.147137</td>\n",
       "    </tr>\n",
       "    <tr>\n",
       "      <th>PoolArea</th>\n",
       "      <td>800.0</td>\n",
       "      <td>0.999927</td>\n",
       "      <td>799.941991</td>\n",
       "    </tr>\n",
       "    <tr>\n",
       "      <th>OpenPorchSF</th>\n",
       "      <td>742.0</td>\n",
       "      <td>1.000057</td>\n",
       "      <td>742.042378</td>\n",
       "    </tr>\n",
       "    <tr>\n",
       "      <th>ScreenPorch</th>\n",
       "      <td>576.0</td>\n",
       "      <td>1.000308</td>\n",
       "      <td>576.177204</td>\n",
       "    </tr>\n",
       "    <tr>\n",
       "      <th>3SsnPorch</th>\n",
       "      <td>360.0</td>\n",
       "      <td>1.000195</td>\n",
       "      <td>360.070166</td>\n",
       "    </tr>\n",
       "    <tr>\n",
       "      <th>LotFrontage</th>\n",
       "      <td>200.0</td>\n",
       "      <td>0.999894</td>\n",
       "      <td>199.978875</td>\n",
       "    </tr>\n",
       "    <tr>\n",
       "      <th>MSSubClass</th>\n",
       "      <td>190.0</td>\n",
       "      <td>0.999483</td>\n",
       "      <td>189.901780</td>\n",
       "    </tr>\n",
       "    <tr>\n",
       "      <th>TotRmsAbvGrd</th>\n",
       "      <td>15.0</td>\n",
       "      <td>1.009213</td>\n",
       "      <td>15.138202</td>\n",
       "    </tr>\n",
       "    <tr>\n",
       "      <th>MoSold</th>\n",
       "      <td>12.0</td>\n",
       "      <td>0.999521</td>\n",
       "      <td>11.994253</td>\n",
       "    </tr>\n",
       "    <tr>\n",
       "      <th>OverallQual</th>\n",
       "      <td>10.0</td>\n",
       "      <td>1.059011</td>\n",
       "      <td>10.590106</td>\n",
       "    </tr>\n",
       "    <tr>\n",
       "      <th>OverallCond</th>\n",
       "      <td>9.0</td>\n",
       "      <td>1.038768</td>\n",
       "      <td>9.348916</td>\n",
       "    </tr>\n",
       "    <tr>\n",
       "      <th>Functional</th>\n",
       "      <td>7.0</td>\n",
       "      <td>1.029910</td>\n",
       "      <td>7.209370</td>\n",
       "    </tr>\n",
       "    <tr>\n",
       "      <th>BsmtFinType1</th>\n",
       "      <td>6.0</td>\n",
       "      <td>1.006890</td>\n",
       "      <td>6.041340</td>\n",
       "    </tr>\n",
       "    <tr>\n",
       "      <th>BedroomAbvGr</th>\n",
       "      <td>6.0</td>\n",
       "      <td>1.002869</td>\n",
       "      <td>6.017213</td>\n",
       "    </tr>\n",
       "    <tr>\n",
       "      <th>BsmtFinType2</th>\n",
       "      <td>6.0</td>\n",
       "      <td>0.997881</td>\n",
       "      <td>5.987289</td>\n",
       "    </tr>\n",
       "    <tr>\n",
       "      <th>...</th>\n",
       "      <td>...</td>\n",
       "      <td>...</td>\n",
       "      <td>...</td>\n",
       "    </tr>\n",
       "    <tr>\n",
       "      <th>GasW</th>\n",
       "      <td>1.0</td>\n",
       "      <td>1.011694</td>\n",
       "      <td>1.011694</td>\n",
       "    </tr>\n",
       "    <tr>\n",
       "      <th>VinylSd</th>\n",
       "      <td>1.0</td>\n",
       "      <td>1.008043</td>\n",
       "      <td>1.008043</td>\n",
       "    </tr>\n",
       "    <tr>\n",
       "      <th>RL</th>\n",
       "      <td>1.0</td>\n",
       "      <td>1.006759</td>\n",
       "      <td>1.006759</td>\n",
       "    </tr>\n",
       "    <tr>\n",
       "      <th>Hip</th>\n",
       "      <td>1.0</td>\n",
       "      <td>1.004170</td>\n",
       "      <td>1.004170</td>\n",
       "    </tr>\n",
       "    <tr>\n",
       "      <th>1Fam</th>\n",
       "      <td>1.0</td>\n",
       "      <td>1.003761</td>\n",
       "      <td>1.003761</td>\n",
       "    </tr>\n",
       "    <tr>\n",
       "      <th>Wd Sdng</th>\n",
       "      <td>1.0</td>\n",
       "      <td>1.001278</td>\n",
       "      <td>1.001278</td>\n",
       "    </tr>\n",
       "    <tr>\n",
       "      <th>Gd</th>\n",
       "      <td>1.0</td>\n",
       "      <td>1.000792</td>\n",
       "      <td>1.000792</td>\n",
       "    </tr>\n",
       "    <tr>\n",
       "      <th>Wd Sdng</th>\n",
       "      <td>1.0</td>\n",
       "      <td>1.000257</td>\n",
       "      <td>1.000257</td>\n",
       "    </tr>\n",
       "    <tr>\n",
       "      <th>Wd Sdng</th>\n",
       "      <td>1.0</td>\n",
       "      <td>0.999707</td>\n",
       "      <td>0.999707</td>\n",
       "    </tr>\n",
       "    <tr>\n",
       "      <th>Mitchel</th>\n",
       "      <td>1.0</td>\n",
       "      <td>0.998313</td>\n",
       "      <td>0.998313</td>\n",
       "    </tr>\n",
       "    <tr>\n",
       "      <th>Artery</th>\n",
       "      <td>1.0</td>\n",
       "      <td>0.998283</td>\n",
       "      <td>0.998283</td>\n",
       "    </tr>\n",
       "    <tr>\n",
       "      <th>BuiltIn</th>\n",
       "      <td>1.0</td>\n",
       "      <td>0.993407</td>\n",
       "      <td>0.993407</td>\n",
       "    </tr>\n",
       "    <tr>\n",
       "      <th>Wd Sdng</th>\n",
       "      <td>1.0</td>\n",
       "      <td>0.992889</td>\n",
       "      <td>0.992889</td>\n",
       "    </tr>\n",
       "    <tr>\n",
       "      <th>HdBoard</th>\n",
       "      <td>1.0</td>\n",
       "      <td>0.992723</td>\n",
       "      <td>0.992723</td>\n",
       "    </tr>\n",
       "    <tr>\n",
       "      <th>FR2</th>\n",
       "      <td>1.0</td>\n",
       "      <td>0.991157</td>\n",
       "      <td>0.991157</td>\n",
       "    </tr>\n",
       "    <tr>\n",
       "      <th>Family</th>\n",
       "      <td>1.0</td>\n",
       "      <td>0.989684</td>\n",
       "      <td>0.989684</td>\n",
       "    </tr>\n",
       "    <tr>\n",
       "      <th>Inside</th>\n",
       "      <td>1.0</td>\n",
       "      <td>0.987745</td>\n",
       "      <td>0.987745</td>\n",
       "    </tr>\n",
       "    <tr>\n",
       "      <th>COD</th>\n",
       "      <td>1.0</td>\n",
       "      <td>0.986266</td>\n",
       "      <td>0.986266</td>\n",
       "    </tr>\n",
       "    <tr>\n",
       "      <th>BrkTil</th>\n",
       "      <td>1.0</td>\n",
       "      <td>0.985663</td>\n",
       "      <td>0.985663</td>\n",
       "    </tr>\n",
       "    <tr>\n",
       "      <th>Twnhs</th>\n",
       "      <td>1.0</td>\n",
       "      <td>0.969736</td>\n",
       "      <td>0.969736</td>\n",
       "    </tr>\n",
       "    <tr>\n",
       "      <th>WD</th>\n",
       "      <td>1.0</td>\n",
       "      <td>0.968880</td>\n",
       "      <td>0.968880</td>\n",
       "    </tr>\n",
       "    <tr>\n",
       "      <th>Bnk</th>\n",
       "      <td>1.0</td>\n",
       "      <td>0.967287</td>\n",
       "      <td>0.967287</td>\n",
       "    </tr>\n",
       "    <tr>\n",
       "      <th>MeadowV</th>\n",
       "      <td>1.0</td>\n",
       "      <td>0.964059</td>\n",
       "      <td>0.964059</td>\n",
       "    </tr>\n",
       "    <tr>\n",
       "      <th>Edwards</th>\n",
       "      <td>1.0</td>\n",
       "      <td>0.961719</td>\n",
       "      <td>0.961719</td>\n",
       "    </tr>\n",
       "    <tr>\n",
       "      <th>CentralAir</th>\n",
       "      <td>1.0</td>\n",
       "      <td>0.959126</td>\n",
       "      <td>0.959126</td>\n",
       "    </tr>\n",
       "    <tr>\n",
       "      <th>RM</th>\n",
       "      <td>1.0</td>\n",
       "      <td>0.946969</td>\n",
       "      <td>0.946969</td>\n",
       "    </tr>\n",
       "    <tr>\n",
       "      <th>Abnorml</th>\n",
       "      <td>1.0</td>\n",
       "      <td>0.945289</td>\n",
       "      <td>0.945289</td>\n",
       "    </tr>\n",
       "    <tr>\n",
       "      <th>PosN</th>\n",
       "      <td>1.0</td>\n",
       "      <td>0.775441</td>\n",
       "      <td>0.775441</td>\n",
       "    </tr>\n",
       "    <tr>\n",
       "      <th>C (all)</th>\n",
       "      <td>1.0</td>\n",
       "      <td>0.750408</td>\n",
       "      <td>0.750408</td>\n",
       "    </tr>\n",
       "    <tr>\n",
       "      <th>ClyTile</th>\n",
       "      <td>0.0</td>\n",
       "      <td>0.328452</td>\n",
       "      <td>0.000000</td>\n",
       "    </tr>\n",
       "  </tbody>\n",
       "</table>\n",
       "<p>94 rows × 3 columns</p>\n",
       "</div>"
      ],
      "text/plain": [
       "                   0_x       0_y       portion\n",
       "LotArea        56600.0  1.000002  56600.106343\n",
       "MiscVal        17000.0  0.999997  16999.941201\n",
       "GrLivArea       5095.0  1.000223   5096.137870\n",
       "TotalBsmtSF     5095.0  1.000027   5095.139312\n",
       "1stFlrSF        5095.0  1.000025   5095.129795\n",
       "BsmtFinSF1      4010.0  1.000034   4010.137757\n",
       "GarageYrBlt     2207.0  0.999966   2206.925620\n",
       "YearBuilt       2010.0  1.001485   2012.984796\n",
       "YearRemodAdd    2010.0  1.000696   2011.398962\n",
       "YrSold          2010.0  0.996643   2003.251460\n",
       "BsmtFinSF2      1526.0  1.000039   1526.060022\n",
       "GarageArea      1488.0  1.000057   1488.084993\n",
       "WoodDeckSF      1424.0  1.000108   1424.154114\n",
       "MasVnrArea      1290.0  1.000002   1290.002843\n",
       "LowQualFinSF    1064.0  1.000008   1064.008619\n",
       "EnclosedPorch   1012.0  1.000145   1012.147137\n",
       "PoolArea         800.0  0.999927    799.941991\n",
       "OpenPorchSF      742.0  1.000057    742.042378\n",
       "ScreenPorch      576.0  1.000308    576.177204\n",
       "3SsnPorch        360.0  1.000195    360.070166\n",
       "LotFrontage      200.0  0.999894    199.978875\n",
       "MSSubClass       190.0  0.999483    189.901780\n",
       "TotRmsAbvGrd      15.0  1.009213     15.138202\n",
       "MoSold            12.0  0.999521     11.994253\n",
       "OverallQual       10.0  1.059011     10.590106\n",
       "OverallCond        9.0  1.038768      9.348916\n",
       "Functional         7.0  1.029910      7.209370\n",
       "BsmtFinType1       6.0  1.006890      6.041340\n",
       "BedroomAbvGr       6.0  1.002869      6.017213\n",
       "BsmtFinType2       6.0  0.997881      5.987289\n",
       "...                ...       ...           ...\n",
       "GasW               1.0  1.011694      1.011694\n",
       "VinylSd            1.0  1.008043      1.008043\n",
       "RL                 1.0  1.006759      1.006759\n",
       "Hip                1.0  1.004170      1.004170\n",
       "1Fam               1.0  1.003761      1.003761\n",
       "Wd Sdng            1.0  1.001278      1.001278\n",
       "Gd                 1.0  1.000792      1.000792\n",
       "Wd Sdng            1.0  1.000257      1.000257\n",
       "Wd Sdng            1.0  0.999707      0.999707\n",
       "Mitchel            1.0  0.998313      0.998313\n",
       "Artery             1.0  0.998283      0.998283\n",
       "BuiltIn            1.0  0.993407      0.993407\n",
       "Wd Sdng            1.0  0.992889      0.992889\n",
       "HdBoard            1.0  0.992723      0.992723\n",
       "FR2                1.0  0.991157      0.991157\n",
       "Family             1.0  0.989684      0.989684\n",
       "Inside             1.0  0.987745      0.987745\n",
       "COD                1.0  0.986266      0.986266\n",
       "BrkTil             1.0  0.985663      0.985663\n",
       "Twnhs              1.0  0.969736      0.969736\n",
       "WD                 1.0  0.968880      0.968880\n",
       "Bnk                1.0  0.967287      0.967287\n",
       "MeadowV            1.0  0.964059      0.964059\n",
       "Edwards            1.0  0.961719      0.961719\n",
       "CentralAir         1.0  0.959126      0.959126\n",
       "RM                 1.0  0.946969      0.946969\n",
       "Abnorml            1.0  0.945289      0.945289\n",
       "PosN               1.0  0.775441      0.775441\n",
       "C (all)            1.0  0.750408      0.750408\n",
       "ClyTile            0.0  0.328452      0.000000\n",
       "\n",
       "[94 rows x 3 columns]"
      ]
     },
     "execution_count": 644,
     "metadata": {},
     "output_type": "execute_result"
    }
   ],
   "source": [
    "featurecheck.sort_values(by='portion', ascending=False)"
   ]
  },
  {
   "cell_type": "code",
   "execution_count": 645,
   "metadata": {},
   "outputs": [
    {
     "data": {
      "text/plain": [
       "111995.71643005527"
      ]
     },
     "execution_count": 645,
     "metadata": {},
     "output_type": "execute_result"
    }
   ],
   "source": [
    "featurecheck.portion.sum()"
   ]
  },
  {
   "cell_type": "code",
   "execution_count": null,
   "metadata": {},
   "outputs": [],
   "source": []
  }
 ],
 "metadata": {
  "kernelspec": {
   "display_name": "Python 3",
   "language": "python",
   "name": "python3"
  },
  "language_info": {
   "codemirror_mode": {
    "name": "ipython",
    "version": 3
   },
   "file_extension": ".py",
   "mimetype": "text/x-python",
   "name": "python",
   "nbconvert_exporter": "python",
   "pygments_lexer": "ipython3",
   "version": "3.7.3"
  }
 },
 "nbformat": 4,
 "nbformat_minor": 2
}
